{
 "cells": [
  {
   "cell_type": "markdown",
   "metadata": {},
   "source": [
    "# Pow(x, n)\n",
    "\n",
    "Implement pow(x, n), which calculates x raised to the power n (x**n).\n",
    "\n",
    "**Example 1**:\n",
    "\n",
    "Input: 2.00, 10\n",
    "\n",
    "Output: 1024.00\n",
    "\n",
    "**Example 2**:\n",
    "\n",
    "Input: 2.10, 3\n",
    "\n",
    "Output: 9.261\n",
    "\n",
    "**Example 3**:\n",
    "\n",
    "Input: 2.00, -2\n",
    "\n",
    "Output: 0.25\n",
    "\n",
    "Explanation: 2-2 = 1/22 = 1/4 = 0.25\n",
    "\n",
    "Note:\n",
    "\n",
    "-100.0 < x < 100.0\n",
    "\n",
    "n is a 32-bit signed integer, within the range `[−231, 231 − 1]`"
   ]
  },
  {
   "cell_type": "code",
   "execution_count": null,
   "metadata": {},
   "outputs": [],
   "source": [
    "def pow(x,n):\n",
    "    if n == 0:\n",
    "        return 1\n",
    "    if n == 1:\n",
    "        return x\n",
    "    if n < 0:\n",
    "        x = 1 / x\n",
    "        n = -n\n",
    "    \n",
    "    temp = pow(x, n//2)\n",
    "    \n",
    "    if n%2 == 0:\n",
    "        return pow(x, n//2) * pow(x, n//2)\n",
    "    if n%2 == 1:\n",
    "        return pow(x, n//2) * pow(x, n//2) * x"
   ]
  },
  {
   "cell_type": "code",
   "execution_count": 2,
   "metadata": {},
   "outputs": [],
   "source": [
    "x_list = [2, 2.1, 2]\n",
    "n_list = [10, 3, -2]"
   ]
  },
  {
   "cell_type": "code",
   "execution_count": 3,
   "metadata": {},
   "outputs": [],
   "source": [
    "def test(x_list, n_list):\n",
    "    for i, x in enumerate(x_list):\n",
    "        print(\"test No\", i , \":\\nx:\", x, \"n:\", n_list[i], \"\\nResults:\")\n",
    "        print(pow(x, n_list[i]))\n",
    "        print(\"*\"*25, \"\\n\")"
   ]
  },
  {
   "cell_type": "code",
   "execution_count": 4,
   "metadata": {},
   "outputs": [
    {
     "name": "stdout",
     "output_type": "stream",
     "text": [
      "test No 0 :\n",
      "x: 2 n: 10 \n",
      "Results:\n",
      "1024\n",
      "************************* \n",
      "\n",
      "test No 1 :\n",
      "x: 2.1 n: 3 \n",
      "Results:\n",
      "9.261000000000001\n",
      "************************* \n",
      "\n",
      "test No 2 :\n",
      "x: 2 n: -2 \n",
      "Results:\n",
      "0.25\n",
      "************************* \n",
      "\n"
     ]
    }
   ],
   "source": [
    "test(x_list, n_list)"
   ]
  },
  {
   "cell_type": "code",
   "execution_count": null,
   "metadata": {},
   "outputs": [],
   "source": []
  }
 ],
 "metadata": {
  "kernelspec": {
   "display_name": "Python 3",
   "language": "python",
   "name": "python3"
  },
  "language_info": {
   "codemirror_mode": {
    "name": "ipython",
    "version": 3
   },
   "file_extension": ".py",
   "mimetype": "text/x-python",
   "name": "python",
   "nbconvert_exporter": "python",
   "pygments_lexer": "ipython3",
   "version": "3.6.5"
  }
 },
 "nbformat": 4,
 "nbformat_minor": 2
}
