{
 "cells": [
  {
   "cell_type": "markdown",
   "metadata": {},
   "source": [
    "# Sort Colors\n",
    "\n",
    "Given an array with n objects colored red, white or blue, sort them in-place so that objects of the same color are adjacent, with the colors in the order red, white and blue.\n",
    "\n",
    "Here, we will use the integers 0, 1, and 2 to represent the color red, white, and blue respectively.\n",
    "\n",
    "Note: You are not suppose to use the library's sort function for this problem.\n",
    "\n",
    "**Example**:\n",
    "\n",
    "Input: `[2,0,2,1,1,0]`\n",
    "Output: `[0,0,1,1,2,2]`\n",
    "\n",
    "**Follow up**:\n",
    "\n",
    "A rather straight forward solution is a two-pass algorithm using counting sort.\n",
    "\n",
    "First, iterate the array counting number of 0's, 1's, and 2's, then overwrite array with total number of 0's, then 1's and followed by 2's.\n",
    "\n",
    "Could you come up with a one-pass algorithm using only constant space?"
   ]
  },
  {
   "cell_type": "code",
   "execution_count": 1,
   "metadata": {},
   "outputs": [],
   "source": [
    "def sort_colors(nums):\n",
    "    \"\"\"\n",
    "    :type nums: List[int]\n",
    "    :rtype: None Do not return anything, modify nums in-place instead.\n",
    "    \"\"\"\n",
    "    r = 0\n",
    "    w = 0\n",
    "    b = len(nums) - 1\n",
    "    \n",
    "    while w < len(nums):\n",
    "        if w > b:\n",
    "            break\n",
    "        if nums[w] == 0:\n",
    "            nums[r], nums[w] = nums[w], nums[r]\n",
    "            r += 1\n",
    "            w += 1\n",
    "        elif nums[w] == 1:\n",
    "            w += 1\n",
    "        elif nums[w] == 2:\n",
    "            nums[w], nums[b] = nums[b], nums[w]\n",
    "            b -= 1\n",
    "    \n",
    "    return nums"
   ]
  },
  {
   "cell_type": "code",
   "execution_count": 2,
   "metadata": {},
   "outputs": [],
   "source": [
    "# Tests:\n",
    "nums_list = [[2,0,2,1,1,0], [2, 2, 1, 0, 1, 1, 0, 0, 0, 2], []]"
   ]
  },
  {
   "cell_type": "code",
   "execution_count": 3,
   "metadata": {},
   "outputs": [],
   "source": [
    "def test(nums_list):\n",
    "    for i, nums in enumerate(nums_list):\n",
    "        print(\"test No\", i , \":\\nnums:\", nums, \"\\nResults:\")\n",
    "        print(sort_colors(nums))\n",
    "        print(\"*\"*25, \"\\n\")"
   ]
  },
  {
   "cell_type": "code",
   "execution_count": 4,
   "metadata": {},
   "outputs": [
    {
     "name": "stdout",
     "output_type": "stream",
     "text": [
      "test No 0 :\n",
      "nums: [2, 0, 2, 1, 1, 0] \n",
      "Results:\n",
      "[0, 0, 1, 1, 2, 2]\n",
      "************************* \n",
      "\n",
      "test No 1 :\n",
      "nums: [2, 2, 1, 0, 1, 1, 0, 0, 0, 2] \n",
      "Results:\n",
      "[0, 0, 0, 0, 1, 1, 1, 2, 2, 2]\n",
      "************************* \n",
      "\n",
      "test No 2 :\n",
      "nums: [] \n",
      "Results:\n",
      "[]\n",
      "************************* \n",
      "\n"
     ]
    }
   ],
   "source": [
    "test(nums_list)"
   ]
  },
  {
   "cell_type": "code",
   "execution_count": null,
   "metadata": {},
   "outputs": [],
   "source": []
  }
 ],
 "metadata": {
  "kernelspec": {
   "display_name": "Python 3",
   "language": "python",
   "name": "python3"
  },
  "language_info": {
   "codemirror_mode": {
    "name": "ipython",
    "version": 3
   },
   "file_extension": ".py",
   "mimetype": "text/x-python",
   "name": "python",
   "nbconvert_exporter": "python",
   "pygments_lexer": "ipython3",
   "version": "3.6.5"
  }
 },
 "nbformat": 4,
 "nbformat_minor": 2
}
