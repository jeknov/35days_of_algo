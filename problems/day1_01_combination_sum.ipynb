{
 "cells": [
  {
   "cell_type": "markdown",
   "metadata": {},
   "source": [
    "# Combination Sum\n",
    "\n",
    "Given a set of candidate numbers (`candidates`) (without duplicates) and a target number (`target`), find all unique combinations in `candidates` where the candidate numbers sums to `target`.\n",
    "\n",
    "The same repeated number may be chosen from candidates unlimited number of times.\n",
    "\n",
    "Note:\n",
    "\n",
    "- All numbers (including `target`) will be positive integers.\n",
    "- The solution set must not contain duplicate combinations.\n",
    "\n",
    "**Example 1**:\n",
    "\n",
    "Input: candidates = `[2,3,6,7]`, target = `7`,\n",
    "\n",
    "A solution set is:\n",
    "`\n",
    "[\n",
    "  [7],\n",
    "  [2,2,3]\n",
    "]`\n",
    "\n",
    "**Example 2**:\n",
    "\n",
    "Input: candidates = `[2,3,5]`, target = `8`,\n",
    "\n",
    "A solution set is:\n",
    "`\n",
    "[\n",
    "  [2,2,2,2],\n",
    "  [2,3,3],\n",
    "  [3,5]\n",
    "]`"
   ]
  },
  {
   "cell_type": "code",
   "execution_count": 1,
   "metadata": {},
   "outputs": [],
   "source": [
    "def comb_sum(candidates, target):\n",
    "    recursive_sum(candidates, target, 0, [])\n",
    "    \n",
    "def recursive_sum(candidates, target, index, sublist):\n",
    "    if target == 0:\n",
    "        print(sublist)\n",
    "        return \n",
    "    if target < 0:\n",
    "        return\n",
    "    for i in range(index, len(candidates)):\n",
    "        sublist.append(candidates[i])\n",
    "        recursive_sum(candidates, target - candidates[i], i, sublist)\n",
    "        sublist.pop()  "
   ]
  },
  {
   "cell_type": "code",
   "execution_count": 2,
   "metadata": {},
   "outputs": [],
   "source": [
    "candidates_list = [[2,3,6,7], [2,3,5]]\n",
    "targets = [7, 8]"
   ]
  },
  {
   "cell_type": "code",
   "execution_count": 3,
   "metadata": {},
   "outputs": [],
   "source": [
    "def test(candidates_list, targets):\n",
    "    for i, candidates in enumerate(candidates_list):\n",
    "        print(\"test No\", i , \":\\ncandidates:\", candidates, \"target:\", targets[i], \"\\nResults:\")\n",
    "        comb_sum(candidates, targets[i])\n",
    "        print(\"*\"*25, \"\\n\")"
   ]
  },
  {
   "cell_type": "code",
   "execution_count": 4,
   "metadata": {},
   "outputs": [
    {
     "name": "stdout",
     "output_type": "stream",
     "text": [
      "test No 0 :\n",
      "candidates: [2, 3, 6, 7] target: 7 \n",
      "Results:\n",
      "[2, 2, 3]\n",
      "[7]\n",
      "************************* \n",
      "\n",
      "test No 1 :\n",
      "candidates: [2, 3, 5] target: 8 \n",
      "Results:\n",
      "[2, 2, 2, 2]\n",
      "[2, 3, 3]\n",
      "[3, 5]\n",
      "************************* \n",
      "\n"
     ]
    }
   ],
   "source": [
    "res = test(candidates_list, targets)"
   ]
  }
 ],
 "metadata": {
  "kernelspec": {
   "display_name": "Python 3",
   "language": "python",
   "name": "python3"
  },
  "language_info": {
   "codemirror_mode": {
    "name": "ipython",
    "version": 3
   },
   "file_extension": ".py",
   "mimetype": "text/x-python",
   "name": "python",
   "nbconvert_exporter": "python",
   "pygments_lexer": "ipython3",
   "version": "3.6.5"
  }
 },
 "nbformat": 4,
 "nbformat_minor": 2
}
