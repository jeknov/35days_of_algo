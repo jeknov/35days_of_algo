{
 "cells": [
  {
   "cell_type": "markdown",
   "metadata": {},
   "source": [
    "# Search in Rotated Sorted Array\n",
    "\n",
    "Suppose an array sorted in ascending order is rotated at some pivot unknown to you beforehand.\n",
    "\n",
    "(i.e., `[0,1,2,4,5,6,7]` might become `[4,5,6,7,0,1,2]`).\n",
    "\n",
    "You are given a target value to search. If found in the array return its index, otherwise return -1.\n",
    "\n",
    "You may assume no duplicate exists in the array.\n",
    "\n",
    "Your algorithm's runtime complexity must be in the order of O(log n).\n",
    "\n",
    "**Example 1**:\n",
    "\n",
    "Input: nums = `[4,5,6,7,0,1,2]`, target = `0`\n",
    "\n",
    "Output: `4`\n",
    "\n",
    "**Example 2**:\n",
    "\n",
    "Input: nums = `[4,5,6,7,0,1,2]`, target = `3`\n",
    "\n",
    "Output: `-1`"
   ]
  },
  {
   "cell_type": "code",
   "execution_count": 1,
   "metadata": {},
   "outputs": [],
   "source": [
    "def search_rotated_array(nums, target):\n",
    "    \n",
    "    # First, find a rotation index:\n",
    "    s = 0\n",
    "    e = len(nums) - 1\n",
    "    while s < e:\n",
    "        mid = (s+e)//2\n",
    "        if nums[s] < nums[e] or nums[mid] < nums[s]:\n",
    "            e = mid\n",
    "        else:\n",
    "            s = mid+1\n",
    "\n",
    "    rot_ind = s\n",
    "        \n",
    "    # Now, \n",
    "    if nums[rot_ind] == target:\n",
    "        return rot_ind\n",
    "    \n",
    "    if target > nums[0]:\n",
    "        s = 0\n",
    "        e = rot_ind\n",
    "        flag = \"left\"\n",
    "    elif target < nums[0]:\n",
    "        s = rot_ind\n",
    "        e = len(nums) - 1\n",
    "        flag = \"right\"\n",
    "    else:\n",
    "        return 0\n",
    "    \n",
    "    while s <= e:\n",
    "        mid = (s + e) // 2\n",
    "        if nums[mid] == target:\n",
    "            if flag == \"left\":\n",
    "                return mid\n",
    "            elif flag == \"right\":\n",
    "                return mid + rot_ind\n",
    "        elif target > nums[mid]:\n",
    "            s = mid + 1\n",
    "        else:\n",
    "            e = mid - 1\n",
    "    return -1\n",
    "        "
   ]
  },
  {
   "cell_type": "code",
   "execution_count": 2,
   "metadata": {},
   "outputs": [],
   "source": [
    "# Tests:\n",
    "nums_list = [[4,5,6,7,0,1,2], [4,5,6,7,0,1,2]]\n",
    "t_list = [0, 3]"
   ]
  },
  {
   "cell_type": "code",
   "execution_count": 3,
   "metadata": {},
   "outputs": [],
   "source": [
    "def test(nums_list, t_list):\n",
    "    for i, nums in enumerate(nums_list):\n",
    "        print(\"test No\", i , \":\\nnums:\", nums, \"t:\", t_list[i], \"\\nResults:\")\n",
    "        print(search_rotated_array(nums, t_list[i]))\n",
    "        print(\"*\"*25, \"\\n\")"
   ]
  },
  {
   "cell_type": "code",
   "execution_count": 4,
   "metadata": {},
   "outputs": [
    {
     "name": "stdout",
     "output_type": "stream",
     "text": [
      "test No 0 :\n",
      "nums: [4, 5, 6, 7, 0, 1, 2] t: 0 \n",
      "Results:\n",
      "4\n",
      "************************* \n",
      "\n",
      "test No 1 :\n",
      "nums: [4, 5, 6, 7, 0, 1, 2] t: 3 \n",
      "Results:\n",
      "-1\n",
      "************************* \n",
      "\n"
     ]
    }
   ],
   "source": [
    "test(nums_list, t_list)"
   ]
  },
  {
   "cell_type": "code",
   "execution_count": null,
   "metadata": {},
   "outputs": [],
   "source": []
  }
 ],
 "metadata": {
  "kernelspec": {
   "display_name": "Python 3",
   "language": "python",
   "name": "python3"
  },
  "language_info": {
   "codemirror_mode": {
    "name": "ipython",
    "version": 3
   },
   "file_extension": ".py",
   "mimetype": "text/x-python",
   "name": "python",
   "nbconvert_exporter": "python",
   "pygments_lexer": "ipython3",
   "version": "3.6.5"
  }
 },
 "nbformat": 4,
 "nbformat_minor": 2
}
