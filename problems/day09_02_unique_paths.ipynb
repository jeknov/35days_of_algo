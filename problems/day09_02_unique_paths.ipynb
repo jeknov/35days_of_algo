{
 "cells": [
  {
   "cell_type": "markdown",
   "metadata": {},
   "source": [
    "# Unique Paths\n",
    "\n",
    "A robot is located at the top-left corner of a `m` x `n` grid (marked 'Start' in the diagram below).\n",
    "\n",
    "The robot can only move either down or right at any point in time. The robot is trying to reach the bottom-right corner of the grid (marked 'Finish' in the diagram below).\n",
    "\n",
    "How many possible unique paths are there?\n",
    "\n",
    "![title](https://assets.leetcode.com/uploads/2018/10/22/robot_maze.png)\n",
    "\n",
    "Above is a 7 x 3 grid. How many possible unique paths are there?\n",
    "\n",
    "Note: `m` and `n` will be at most 100.\n",
    "\n",
    "**Example 1**:\n",
    "\n",
    "Input: `m` = `3`, `n` = `2`\n",
    "\n",
    "Output: `3`\n",
    "\n",
    "***Explanation***:\n",
    "\n",
    "From the top-left corner, there are a total of 3 ways to reach the bottom-right corner:\n",
    "1. Right -> Right -> Down\n",
    "2. Right -> Down -> Right\n",
    "3. Down -> Right -> Right\n",
    "\n",
    "**Example 2**:\n",
    "\n",
    "Input: `m` = `7`, `n` = `3`\n",
    "\n",
    "Output: `28`"
   ]
  },
  {
   "cell_type": "code",
   "execution_count": 1,
   "metadata": {},
   "outputs": [],
   "source": [
    "def unique_paths(m, n):\n",
    "    \n",
    "    path_matrix = [[1] * m] * n\n",
    "    \n",
    "    for i in range(1, n):\n",
    "        for j in range(1, m):\n",
    "            path_matrix[i][j] = path_matrix[i - 1][j] + path_matrix[i][j - 1]\n",
    "    return path_matrix[n - 1][m - 1]\n",
    "        "
   ]
  },
  {
   "cell_type": "code",
   "execution_count": 2,
   "metadata": {},
   "outputs": [],
   "source": [
    "# Tests:\n",
    "\n",
    "m_list = [3, 7]\n",
    "n_list = [2, 3]"
   ]
  },
  {
   "cell_type": "code",
   "execution_count": 3,
   "metadata": {},
   "outputs": [],
   "source": [
    "def test(m_list, n_list):\n",
    "    for i, m in enumerate(m_list):\n",
    "        print(\"test No\", i , \":\\nm:\", m, \"n:\", n_list[i], \"\\nResults:\")\n",
    "        print(unique_paths(m, n_list[i]))\n",
    "        print(\"*\"*25, \"\\n\")"
   ]
  },
  {
   "cell_type": "code",
   "execution_count": 4,
   "metadata": {},
   "outputs": [
    {
     "name": "stdout",
     "output_type": "stream",
     "text": [
      "test No 0 :\n",
      "m: 3 n: 2 \n",
      "Results:\n",
      "3\n",
      "************************* \n",
      "\n",
      "test No 1 :\n",
      "m: 7 n: 3 \n",
      "Results:\n",
      "28\n",
      "************************* \n",
      "\n"
     ]
    }
   ],
   "source": [
    "test(m_list, n_list)"
   ]
  },
  {
   "cell_type": "code",
   "execution_count": null,
   "metadata": {},
   "outputs": [],
   "source": []
  }
 ],
 "metadata": {
  "kernelspec": {
   "display_name": "Python 3",
   "language": "python",
   "name": "python3"
  },
  "language_info": {
   "codemirror_mode": {
    "name": "ipython",
    "version": 3
   },
   "file_extension": ".py",
   "mimetype": "text/x-python",
   "name": "python",
   "nbconvert_exporter": "python",
   "pygments_lexer": "ipython3",
   "version": "3.6.5"
  }
 },
 "nbformat": 4,
 "nbformat_minor": 2
}
