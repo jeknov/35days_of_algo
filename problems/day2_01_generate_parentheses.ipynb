{
 "cells": [
  {
   "cell_type": "markdown",
   "metadata": {},
   "source": [
    "# Generate Parentheses\n",
    "\n",
    "Given `n` pairs of parentheses, write a function to generate all combinations of well-formed parentheses.\n",
    "\n",
    "For example, given `n` = 3, a solution set is:\n",
    "\n",
    "`\n",
    "[\n",
    "  \"((()))\",\n",
    "  \"(()())\",\n",
    "  \"(())()\",\n",
    "  \"()(())\",\n",
    "  \"()()()\"\n",
    "]`"
   ]
  },
  {
   "cell_type": "code",
   "execution_count": 1,
   "metadata": {},
   "outputs": [],
   "source": [
    "def generate_parentheses(n):\n",
    "    '''\n",
    "    n - int, number of pairs of parentheses\n",
    "    '''\n",
    "    \n",
    "    def helper(seq, l, s):\n",
    "        '''\n",
    "        seq - str, generated sequence of parentheses\n",
    "        l - int, number of unused left parentheses \"(\"\n",
    "        s - int, balance that increases by 1 when \"(\" is added to the sequence and decreases by 1 when \")\" is added.\n",
    "        '''\n",
    "        if l == 0:\n",
    "            return [seq + \")\" * s]\n",
    "        elif s == 0:\n",
    "            return helper(seq + \"(\", l - 1, s + 1)\n",
    "        return helper(seq + \"(\", l - 1, s + 1) + helper(seq + \")\", l, s - 1)\n",
    "        \n",
    "    return helper(\"\", n, 0)"
   ]
  },
  {
   "cell_type": "code",
   "execution_count": 2,
   "metadata": {},
   "outputs": [],
   "source": [
    "# Tests:\n",
    "n_list = [2,3,4,5]"
   ]
  },
  {
   "cell_type": "code",
   "execution_count": 3,
   "metadata": {},
   "outputs": [],
   "source": [
    "def test(n_list):\n",
    "    for i, n in enumerate(n_list):\n",
    "        print(\"test No\", i , \":\\nnumber of parentheses:\", n, \"\\nResults:\")\n",
    "        print(generate_parentheses(n))\n",
    "        print(\"*\"*25, \"\\n\")"
   ]
  },
  {
   "cell_type": "code",
   "execution_count": 4,
   "metadata": {},
   "outputs": [
    {
     "name": "stdout",
     "output_type": "stream",
     "text": [
      "test No 0 :\n",
      "number of parentheses: 2 \n",
      "Results:\n",
      "['(())', '()()']\n",
      "************************* \n",
      "\n",
      "test No 1 :\n",
      "number of parentheses: 3 \n",
      "Results:\n",
      "['((()))', '(()())', '(())()', '()(())', '()()()']\n",
      "************************* \n",
      "\n",
      "test No 2 :\n",
      "number of parentheses: 4 \n",
      "Results:\n",
      "['(((())))', '((()()))', '((())())', '((()))()', '(()(()))', '(()()())', '(()())()', '(())(())', '(())()()', '()((()))', '()(()())', '()(())()', '()()(())', '()()()()']\n",
      "************************* \n",
      "\n",
      "test No 3 :\n",
      "number of parentheses: 5 \n",
      "Results:\n",
      "['((((()))))', '(((()())))', '(((())()))', '(((()))())', '(((())))()', '((()(())))', '((()()()))', '((()())())', '((()()))()', '((())(()))', '((())()())', '((())())()', '((()))(())', '((()))()()', '(()((())))', '(()(()()))', '(()(())())', '(()(()))()', '(()()(()))', '(()()()())', '(()()())()', '(()())(())', '(()())()()', '(())((()))', '(())(()())', '(())(())()', '(())()(())', '(())()()()', '()(((())))', '()((()()))', '()((())())', '()((()))()', '()(()(()))', '()(()()())', '()(()())()', '()(())(())', '()(())()()', '()()((()))', '()()(()())', '()()(())()', '()()()(())', '()()()()()']\n",
      "************************* \n",
      "\n"
     ]
    }
   ],
   "source": [
    "test(n_list)"
   ]
  },
  {
   "cell_type": "code",
   "execution_count": null,
   "metadata": {},
   "outputs": [],
   "source": []
  }
 ],
 "metadata": {
  "kernelspec": {
   "display_name": "Python 3",
   "language": "python",
   "name": "python3"
  },
  "language_info": {
   "codemirror_mode": {
    "name": "ipython",
    "version": 3
   },
   "file_extension": ".py",
   "mimetype": "text/x-python",
   "name": "python",
   "nbconvert_exporter": "python",
   "pygments_lexer": "ipython3",
   "version": "3.6.5"
  }
 },
 "nbformat": 4,
 "nbformat_minor": 2
}
