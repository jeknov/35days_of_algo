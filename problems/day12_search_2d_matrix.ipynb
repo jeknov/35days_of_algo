{
 "cells": [
  {
   "cell_type": "markdown",
   "metadata": {},
   "source": [
    "# Search a 2D Matrix II\n",
    "\n",
    "Write an efficient algorithm that searches for a value in an m x n matrix. This matrix has the following properties:\n",
    "\n",
    "Integers in each row are sorted in ascending from left to right.\n",
    "Integers in each column are sorted in ascending from top to bottom.\n",
    "\n",
    "**Example**:\n",
    "\n",
    "Consider the following matrix:\n",
    "<pre>\n",
    "[\n",
    "  [1,   4,  7, 11, 15],\n",
    "  [2,   5,  8, 12, 19],\n",
    "  [3,   6,  9, 16, 22],\n",
    "  [10, 13, 14, 17, 24],\n",
    "  [18, 21, 23, 26, 30]\n",
    "]\n",
    "</pre>\n",
    "\n",
    "Given target = 5, return true.\n",
    "\n",
    "Given target = 20, return false."
   ]
  },
  {
   "cell_type": "code",
   "execution_count": 1,
   "metadata": {},
   "outputs": [],
   "source": [
    "def search_2d_matrix(matrix, target):\n",
    "    \n",
    "    if len(matrix) == 0 or len(matrix[0]) == 0:\n",
    "        return false\n",
    "    \n",
    "    row = 0\n",
    "    col = len(matrix[0]) - 1\n",
    "    \n",
    "    while row <  len(matrix[0]) and col >= 0:\n",
    "        if matrix[row][col] == target:\n",
    "            return True\n",
    "        elif matrix[row][col] < target:\n",
    "            row += 1\n",
    "        else:\n",
    "            col -= 1\n",
    "            \n",
    "    return False   "
   ]
  },
  {
   "cell_type": "code",
   "execution_count": 2,
   "metadata": {},
   "outputs": [],
   "source": [
    "matrix = [\n",
    "  [1,   4,  7, 11, 15],\n",
    "  [2,   5,  8, 12, 19],\n",
    "  [3,   6,  9, 16, 22],\n",
    "  [10, 13, 14, 17, 24],\n",
    "  [18, 21, 23, 26, 30]\n",
    "]"
   ]
  },
  {
   "cell_type": "code",
   "execution_count": 3,
   "metadata": {},
   "outputs": [],
   "source": [
    "target_list = [15, 2, 9, 17, 21, 6, 35, 43]"
   ]
  },
  {
   "cell_type": "code",
   "execution_count": 4,
   "metadata": {},
   "outputs": [],
   "source": [
    "def test(matrix, target_list):\n",
    "    for i, target in enumerate(target_list):\n",
    "        print(matrix)\n",
    "        print(\"test No\", i , \":\\ntarget:\", target, \"\\nResults:\")\n",
    "        print(search_2d_matrix(matrix, target))\n",
    "        print(\"*\"*25, \"\\n\")"
   ]
  },
  {
   "cell_type": "code",
   "execution_count": 5,
   "metadata": {},
   "outputs": [
    {
     "name": "stdout",
     "output_type": "stream",
     "text": [
      "[[1, 4, 7, 11, 15], [2, 5, 8, 12, 19], [3, 6, 9, 16, 22], [10, 13, 14, 17, 24], [18, 21, 23, 26, 30]]\n",
      "test No 0 :\n",
      "target: 15 \n",
      "Results:\n",
      "True\n",
      "************************* \n",
      "\n",
      "[[1, 4, 7, 11, 15], [2, 5, 8, 12, 19], [3, 6, 9, 16, 22], [10, 13, 14, 17, 24], [18, 21, 23, 26, 30]]\n",
      "test No 1 :\n",
      "target: 2 \n",
      "Results:\n",
      "True\n",
      "************************* \n",
      "\n",
      "[[1, 4, 7, 11, 15], [2, 5, 8, 12, 19], [3, 6, 9, 16, 22], [10, 13, 14, 17, 24], [18, 21, 23, 26, 30]]\n",
      "test No 2 :\n",
      "target: 9 \n",
      "Results:\n",
      "True\n",
      "************************* \n",
      "\n",
      "[[1, 4, 7, 11, 15], [2, 5, 8, 12, 19], [3, 6, 9, 16, 22], [10, 13, 14, 17, 24], [18, 21, 23, 26, 30]]\n",
      "test No 3 :\n",
      "target: 17 \n",
      "Results:\n",
      "True\n",
      "************************* \n",
      "\n",
      "[[1, 4, 7, 11, 15], [2, 5, 8, 12, 19], [3, 6, 9, 16, 22], [10, 13, 14, 17, 24], [18, 21, 23, 26, 30]]\n",
      "test No 4 :\n",
      "target: 21 \n",
      "Results:\n",
      "True\n",
      "************************* \n",
      "\n",
      "[[1, 4, 7, 11, 15], [2, 5, 8, 12, 19], [3, 6, 9, 16, 22], [10, 13, 14, 17, 24], [18, 21, 23, 26, 30]]\n",
      "test No 5 :\n",
      "target: 6 \n",
      "Results:\n",
      "True\n",
      "************************* \n",
      "\n",
      "[[1, 4, 7, 11, 15], [2, 5, 8, 12, 19], [3, 6, 9, 16, 22], [10, 13, 14, 17, 24], [18, 21, 23, 26, 30]]\n",
      "test No 6 :\n",
      "target: 35 \n",
      "Results:\n",
      "False\n",
      "************************* \n",
      "\n",
      "[[1, 4, 7, 11, 15], [2, 5, 8, 12, 19], [3, 6, 9, 16, 22], [10, 13, 14, 17, 24], [18, 21, 23, 26, 30]]\n",
      "test No 7 :\n",
      "target: 43 \n",
      "Results:\n",
      "False\n",
      "************************* \n",
      "\n"
     ]
    }
   ],
   "source": [
    "test(matrix, target_list)"
   ]
  },
  {
   "cell_type": "code",
   "execution_count": null,
   "metadata": {},
   "outputs": [],
   "source": []
  }
 ],
 "metadata": {
  "kernelspec": {
   "display_name": "Python 3",
   "language": "python",
   "name": "python3"
  },
  "language_info": {
   "codemirror_mode": {
    "name": "ipython",
    "version": 3
   },
   "file_extension": ".py",
   "mimetype": "text/x-python",
   "name": "python",
   "nbconvert_exporter": "python",
   "pygments_lexer": "ipython3",
   "version": "3.6.5"
  }
 },
 "nbformat": 4,
 "nbformat_minor": 2
}
