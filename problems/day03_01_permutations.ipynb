{
 "cells": [
  {
   "cell_type": "markdown",
   "metadata": {},
   "source": [
    "# Permutations\n",
    "\n",
    "Given a collection of distinct integers, return all possible permutations.\n",
    "\n",
    "**Example**:\n",
    "\n",
    "Input: `[1,2,3]`\n",
    "\n",
    "Output:\n",
    "`[\n",
    "  [1,2,3],\n",
    "  [1,3,2],\n",
    "  [2,1,3],\n",
    "  [2,3,1],\n",
    "  [3,1,2],\n",
    "  [3,2,1]\n",
    "]`"
   ]
  },
  {
   "cell_type": "code",
   "execution_count": 1,
   "metadata": {},
   "outputs": [],
   "source": [
    "def permutations(arr):\n",
    "    '''\n",
    "    arr - List[int]  \n",
    "    rtype - res, List[List[int]]\n",
    "    '''\n",
    "    \n",
    "    def permute(arr, perm, res):\n",
    "        if len(arr) == 0:\n",
    "            res.append(perm)\n",
    "            \n",
    "        for i in range(len(arr)):\n",
    "            sublist = arr[:i] + arr[i+1:]\n",
    "            permute(sublist, perm + [arr[i]], res)           \n",
    "    \n",
    "    res = []\n",
    "    permute(arr, [], res)\n",
    "    return res"
   ]
  },
  {
   "cell_type": "code",
   "execution_count": 2,
   "metadata": {},
   "outputs": [],
   "source": [
    "# Tests:\n",
    "arr_list = [[1,2,3], [2,3,4,5]]"
   ]
  },
  {
   "cell_type": "code",
   "execution_count": 3,
   "metadata": {},
   "outputs": [],
   "source": [
    "def test(arr_list):\n",
    "    for i, n in enumerate(arr_list):\n",
    "        print(\"test No\", i , \":\\ntest list:\", n, \"\\nResults:\")\n",
    "        print(permutations(n))\n",
    "        print(\"*\"*25, \"\\n\")"
   ]
  },
  {
   "cell_type": "code",
   "execution_count": 4,
   "metadata": {},
   "outputs": [
    {
     "name": "stdout",
     "output_type": "stream",
     "text": [
      "test No 0 :\n",
      "test list: [1, 2, 3] \n",
      "Results:\n",
      "[[1, 2, 3], [1, 3, 2], [2, 1, 3], [2, 3, 1], [3, 1, 2], [3, 2, 1]]\n",
      "************************* \n",
      "\n",
      "test No 1 :\n",
      "test list: [2, 3, 4, 5] \n",
      "Results:\n",
      "[[2, 3, 4, 5], [2, 3, 5, 4], [2, 4, 3, 5], [2, 4, 5, 3], [2, 5, 3, 4], [2, 5, 4, 3], [3, 2, 4, 5], [3, 2, 5, 4], [3, 4, 2, 5], [3, 4, 5, 2], [3, 5, 2, 4], [3, 5, 4, 2], [4, 2, 3, 5], [4, 2, 5, 3], [4, 3, 2, 5], [4, 3, 5, 2], [4, 5, 2, 3], [4, 5, 3, 2], [5, 2, 3, 4], [5, 2, 4, 3], [5, 3, 2, 4], [5, 3, 4, 2], [5, 4, 2, 3], [5, 4, 3, 2]]\n",
      "************************* \n",
      "\n"
     ]
    }
   ],
   "source": [
    "test(arr_list)"
   ]
  },
  {
   "cell_type": "markdown",
   "metadata": {},
   "source": [
    "**Time complexity**: O(n!)"
   ]
  },
  {
   "cell_type": "code",
   "execution_count": null,
   "metadata": {},
   "outputs": [],
   "source": []
  }
 ],
 "metadata": {
  "kernelspec": {
   "display_name": "Python 3",
   "language": "python",
   "name": "python3"
  },
  "language_info": {
   "codemirror_mode": {
    "name": "ipython",
    "version": 3
   },
   "file_extension": ".py",
   "mimetype": "text/x-python",
   "name": "python",
   "nbconvert_exporter": "python",
   "pygments_lexer": "ipython3",
   "version": "3.6.5"
  }
 },
 "nbformat": 4,
 "nbformat_minor": 2
}
