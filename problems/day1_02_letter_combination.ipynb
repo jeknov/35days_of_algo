{
 "cells": [
  {
   "cell_type": "markdown",
   "metadata": {},
   "source": [
    "# Letter Combinations of a Phone Number\n",
    "\n",
    "Given a string containing digits from 2-9 inclusive, return all possible letter combinations that the number could represent.\n",
    "\n",
    "A mapping of digit to letters (just like on the telephone buttons) is given below. Note that 1 does not map to any letters.\n",
    "\n",
    "<img src=\"http://upload.wikimedia.org/wikipedia/commons/thumb/7/73/Telephone-keypad2.svg/200px-Telephone-keypad2.svg.png\">\n",
    "\n",
    "**Example**:\n",
    "\n",
    "Input: `\"23\"`\n",
    "\n",
    "Output: `[\"ad\", \"ae\", \"af\", \"bd\", \"be\", \"bf\", \"cd\", \"ce\", \"cf\"]`\n",
    "\n",
    "**Note**:\n",
    "\n",
    "Although the above answer is in lexicographical order, your answer could be in any order you want."
   ]
  },
  {
   "cell_type": "code",
   "execution_count": 1,
   "metadata": {},
   "outputs": [],
   "source": [
    "def letter_combination(digits):\n",
    "    digit_map = {'2': ['a', 'b', 'c'],\n",
    "                 '3': ['d', 'e', 'f'],\n",
    "                 '4': ['g', 'h', 'i'],\n",
    "                 '5': ['j', 'k', 'l'],\n",
    "                 '6': ['m', 'n', 'o'],\n",
    "                 '7': ['p', 'q', 'r', 's'],\n",
    "                 '8': ['t', 'u', 'v'],\n",
    "                 '9': ['w', 'x', 'y', 'z']}\n",
    "\n",
    "    def generate_combinations(combination, next_digits):\n",
    "        # if there is no more digits to check\n",
    "        if len(next_digits) == 0:\n",
    "            # the combination is done\n",
    "            output.append(combination)\n",
    "        # if there are still digits to check\n",
    "        else:\n",
    "            # iterate over all letters which map \n",
    "            # the next available digit\n",
    "            for letter in digit_map[next_digits[0]]:\n",
    "                # append the current letter to the combination\n",
    "                # and proceed to the next digits\n",
    "                generate_combinations(combination + letter, next_digits[1:])\n",
    "            \n",
    "    output = []\n",
    "    if digits:\n",
    "        generate_combinations(\"\", digits)\n",
    "        \n",
    "    return output"
   ]
  },
  {
   "cell_type": "code",
   "execution_count": 2,
   "metadata": {},
   "outputs": [],
   "source": [
    "# Tests:\n",
    "digits_list = [\"23\", \"32\", \"427\"]"
   ]
  },
  {
   "cell_type": "code",
   "execution_count": 3,
   "metadata": {},
   "outputs": [],
   "source": [
    "def test(digits_list):\n",
    "    for i, digits in enumerate(digits_list):\n",
    "        print(\"test No\", i , \":\\ndigits:\", digits, \"\\nResults:\")\n",
    "        print(letter_combination(digits))\n",
    "        print(\"*\"*25, \"\\n\")"
   ]
  },
  {
   "cell_type": "code",
   "execution_count": 4,
   "metadata": {},
   "outputs": [
    {
     "name": "stdout",
     "output_type": "stream",
     "text": [
      "test No 0 :\n",
      "digits: 23 \n",
      "Results:\n",
      "['ad', 'ae', 'af', 'bd', 'be', 'bf', 'cd', 'ce', 'cf']\n",
      "************************* \n",
      "\n",
      "test No 1 :\n",
      "digits: 32 \n",
      "Results:\n",
      "['da', 'db', 'dc', 'ea', 'eb', 'ec', 'fa', 'fb', 'fc']\n",
      "************************* \n",
      "\n",
      "test No 2 :\n",
      "digits: 427 \n",
      "Results:\n",
      "['gap', 'gaq', 'gar', 'gas', 'gbp', 'gbq', 'gbr', 'gbs', 'gcp', 'gcq', 'gcr', 'gcs', 'hap', 'haq', 'har', 'has', 'hbp', 'hbq', 'hbr', 'hbs', 'hcp', 'hcq', 'hcr', 'hcs', 'iap', 'iaq', 'iar', 'ias', 'ibp', 'ibq', 'ibr', 'ibs', 'icp', 'icq', 'icr', 'ics']\n",
      "************************* \n",
      "\n"
     ]
    }
   ],
   "source": [
    "test(digits_list)"
   ]
  },
  {
   "cell_type": "markdown",
   "metadata": {},
   "source": [
    "\n",
    "\n",
    "**Time complexity** : `O(3^N x 4^M)` where `N` is the number of digits in the input that maps to 3 letters (e.g. 2, 3, 4, 5, 6, 8) and `M` is the number of digits in the input that maps to 4 letters (e.g. 7, 9), and `N+M` is the total number digits in the input."
   ]
  },
  {
   "cell_type": "code",
   "execution_count": null,
   "metadata": {},
   "outputs": [],
   "source": []
  }
 ],
 "metadata": {
  "kernelspec": {
   "display_name": "Python 3",
   "language": "python",
   "name": "python3"
  },
  "language_info": {
   "codemirror_mode": {
    "name": "ipython",
    "version": 3
   },
   "file_extension": ".py",
   "mimetype": "text/x-python",
   "name": "python",
   "nbconvert_exporter": "python",
   "pygments_lexer": "ipython3",
   "version": "3.6.5"
  }
 },
 "nbformat": 4,
 "nbformat_minor": 2
}
