{
 "cells": [
  {
   "cell_type": "markdown",
   "metadata": {},
   "source": [
    "# Subsets\n",
    "\n",
    "Given a set of distinct integers, `nums`, return all possible subsets (the power set).\n",
    "\n",
    "Note: The solution set must not contain duplicate subsets.\n",
    "\n",
    "**Example**:\n",
    "\n",
    "Input: nums = `[1,2,3]`\n",
    "\n",
    "Output:\n",
    "`[\n",
    "  [3],\n",
    "  [1],\n",
    "  [2],\n",
    "  [1,2,3],\n",
    "  [1,3],\n",
    "  [2,3],\n",
    "  [1,2],\n",
    "  []\n",
    "]`"
   ]
  },
  {
   "cell_type": "code",
   "execution_count": 1,
   "metadata": {},
   "outputs": [],
   "source": [
    "def subsets(nums):\n",
    "    \n",
    "    def helper(nums, subset, ind, results):\n",
    "        results.append(subset[:])\n",
    "        for i in range(ind, len(nums)):\n",
    "            helper(nums, subset+[nums[i]], i+1, results)\n",
    "        \n",
    "    results = []\n",
    "    helper(nums, [], 0, results)\n",
    "    return results"
   ]
  },
  {
   "cell_type": "code",
   "execution_count": 2,
   "metadata": {},
   "outputs": [],
   "source": [
    "# Tests:\n",
    "nums_list = [[1, 2, 3], [2, 4, 7], [1, 2]]"
   ]
  },
  {
   "cell_type": "code",
   "execution_count": 3,
   "metadata": {},
   "outputs": [],
   "source": [
    "def test(nums_list):\n",
    "    for i, nums in enumerate(nums_list):\n",
    "        print(\"test No\", i , \":\\nnums:\", nums, \"\\nResults:\")\n",
    "        print(subsets(nums))\n",
    "        print(\"*\"*25, \"\\n\")"
   ]
  },
  {
   "cell_type": "code",
   "execution_count": 4,
   "metadata": {},
   "outputs": [
    {
     "name": "stdout",
     "output_type": "stream",
     "text": [
      "test No 0 :\n",
      "nums: [1, 2, 3] \n",
      "Results:\n",
      "[[], [1], [1, 2], [1, 2, 3], [1, 3], [2], [2, 3], [3]]\n",
      "************************* \n",
      "\n",
      "test No 1 :\n",
      "nums: [2, 4, 7] \n",
      "Results:\n",
      "[[], [2], [2, 4], [2, 4, 7], [2, 7], [4], [4, 7], [7]]\n",
      "************************* \n",
      "\n",
      "test No 2 :\n",
      "nums: [1, 2] \n",
      "Results:\n",
      "[[], [1], [1, 2], [2]]\n",
      "************************* \n",
      "\n"
     ]
    }
   ],
   "source": [
    "test(nums_list)"
   ]
  },
  {
   "cell_type": "code",
   "execution_count": null,
   "metadata": {},
   "outputs": [],
   "source": []
  },
  {
   "cell_type": "code",
   "execution_count": null,
   "metadata": {},
   "outputs": [],
   "source": [
    "\n",
    "\n",
    "\n",
    "\n"
   ]
  }
 ],
 "metadata": {
  "kernelspec": {
   "display_name": "Python 3",
   "language": "python",
   "name": "python3"
  },
  "language_info": {
   "codemirror_mode": {
    "name": "ipython",
    "version": 3
   },
   "file_extension": ".py",
   "mimetype": "text/x-python",
   "name": "python",
   "nbconvert_exporter": "python",
   "pygments_lexer": "ipython3",
   "version": "3.6.5"
  }
 },
 "nbformat": 4,
 "nbformat_minor": 2
}
