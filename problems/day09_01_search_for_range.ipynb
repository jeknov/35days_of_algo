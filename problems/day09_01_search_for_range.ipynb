{
 "cells": [
  {
   "cell_type": "markdown",
   "metadata": {},
   "source": [
    "# Search for a Range\n",
    "\n",
    "Given an array of integers nums sorted in ascending order, find the starting and ending position of a given target value.\n",
    "\n",
    "Your algorithm's runtime complexity must be in the order of O(log n).\n",
    "\n",
    "If the target is not found in the array, return `[-1, -1]`.\n",
    "\n",
    "**Example 1**:\n",
    "\n",
    "Input: nums = `[5,7,7,8,8,10]`, target = `8`\n",
    "\n",
    "Output: `[3,4]`\n",
    "\n",
    "**Example 2**:\n",
    "\n",
    "Input: nums = `[5,7,7,8,8,10]`, target = `6`\n",
    "\n",
    "Output: `[-1,-1]`"
   ]
  },
  {
   "cell_type": "code",
   "execution_count": 1,
   "metadata": {},
   "outputs": [],
   "source": [
    "def search_for_range(nums, target):\n",
    "    \n",
    "    leftInd = binarySearch(nums, target, True)\n",
    "        \n",
    "    if len(nums) < 1 or leftInd == len(nums) or nums[leftInd] != target:\n",
    "        return [-1, -1]\n",
    "\n",
    "    return [leftInd, binarySearch(nums, target, False) - 1]\n",
    "\n",
    "def binarySearch(nums, target, isLeft):\n",
    "    left = 0\n",
    "    right = len(nums)\n",
    "\n",
    "    while left < right:\n",
    "        mid = (left + right) // 2\n",
    "        if nums[mid] > target or (isLeft and nums[mid] == target):\n",
    "            right = mid\n",
    "        else:\n",
    "            left = mid + 1\n",
    "    return left"
   ]
  },
  {
   "cell_type": "code",
   "execution_count": 2,
   "metadata": {},
   "outputs": [],
   "source": [
    "# Tests\n",
    "nums_list = [[5,7,7,8,8,10], [5,7,7,8,8,10]]\n",
    "target_list = [8, 6]"
   ]
  },
  {
   "cell_type": "code",
   "execution_count": 3,
   "metadata": {},
   "outputs": [],
   "source": [
    "def test(nums_list, target_list):\n",
    "    for i, nums in enumerate(nums_list):\n",
    "        print(\"test No\", i , \":\\nnums:\", nums, \"target:\", target_list[i], \"\\nResults:\")\n",
    "        print(search_for_range(nums, target_list[i]))\n",
    "        print(\"*\"*25, \"\\n\")"
   ]
  },
  {
   "cell_type": "code",
   "execution_count": 4,
   "metadata": {},
   "outputs": [
    {
     "name": "stdout",
     "output_type": "stream",
     "text": [
      "test No 0 :\n",
      "nums: [5, 7, 7, 8, 8, 10] target: 8 \n",
      "Results:\n",
      "[3, 4]\n",
      "************************* \n",
      "\n",
      "test No 1 :\n",
      "nums: [5, 7, 7, 8, 8, 10] target: 6 \n",
      "Results:\n",
      "[-1, -1]\n",
      "************************* \n",
      "\n"
     ]
    }
   ],
   "source": [
    "test(nums_list, target_list)"
   ]
  },
  {
   "cell_type": "code",
   "execution_count": null,
   "metadata": {},
   "outputs": [],
   "source": []
  }
 ],
 "metadata": {
  "kernelspec": {
   "display_name": "Python 3",
   "language": "python",
   "name": "python3"
  },
  "language_info": {
   "codemirror_mode": {
    "name": "ipython",
    "version": 3
   },
   "file_extension": ".py",
   "mimetype": "text/x-python",
   "name": "python",
   "nbconvert_exporter": "python",
   "pygments_lexer": "ipython3",
   "version": "3.6.5"
  }
 },
 "nbformat": 4,
 "nbformat_minor": 2
}
