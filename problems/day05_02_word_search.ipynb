{
 "cells": [
  {
   "cell_type": "markdown",
   "metadata": {},
   "source": [
    "# Word Search\n",
    "\n",
    "Given a 2D board and a word, find if the word exists in the grid.\n",
    "\n",
    "The word can be constructed from letters of sequentially adjacent cell, where *\"adjacent\"* cells are those horizontally or vertically neighboring. The same letter cell may not be used more than once.\n",
    "\n",
    "Example:\n",
    "\n",
    "board =\n",
    "<pre>\n",
    "[\n",
    "  ['A','B','C','E'],\n",
    "  ['S','F','C','S'],\n",
    "  ['A','D','E','E']\n",
    "]\n",
    "</pre>\n",
    "\n",
    "Given word = `\"ABCCED\"`, return true.\n",
    "\n",
    "Given word = `\"SEE\"`, return true.\n",
    "\n",
    "Given word = `\"ABCB\"`, return false."
   ]
  },
  {
   "cell_type": "code",
   "execution_count": 1,
   "metadata": {},
   "outputs": [],
   "source": [
    "def word_search(board, word):\n",
    "        \"\"\"\n",
    "        :type board: List[List[str]]\n",
    "        :type word: str\n",
    "        :rtype: bool\n",
    "        \"\"\"\n",
    "        def dfs(i, j, index): \n",
    "            \"\"\"\n",
    "            i - row\n",
    "            j - col\n",
    "            index - index of a letter in the word\n",
    "            \"\"\"\n",
    "            if index == len(word): # if all letters are found, we stop dfs -> the word is found\n",
    "                return True\n",
    "            \n",
    "            if not (0 <= i < len(board) and 0 <= j < len(board[i])): # check for boundaries\n",
    "                return False\n",
    "            \n",
    "            if board[i][j] != word[index]: # if letter is not found, we stop dfs -> the word isn't found\n",
    "                return False\n",
    "\n",
    "            orig = board[i][j]    # to check that th same letter cell is not used more than once\n",
    "            board[i][j] = None\n",
    "            for ni, nj in (i+1, j), (i-1, j), (i, j+1), (i, j-1): # go through the neighbours ni and nj\n",
    "                if dfs(ni, nj, index + 1):\n",
    "                    return True\n",
    "            board[i][j] = orig\n",
    "            return False\n",
    "        \n",
    "\n",
    "        for i, row in enumerate(board):\n",
    "            for j, val in enumerate(row):\n",
    "                if val == word[0]:\n",
    "                    if dfs(i, j, 0):     # if the word was found\n",
    "                        return True\n",
    "        \n",
    "        return False   # if we went through the whole board but dfs didn't find the word\n",
    "    "
   ]
  },
  {
   "cell_type": "code",
   "execution_count": 2,
   "metadata": {},
   "outputs": [],
   "source": [
    "# Tests:\n",
    "word_list = [\"ABCCED\", \"SEE\", \"ABFDEE\", \"ABCB\", \"ABFDASF\"]"
   ]
  },
  {
   "cell_type": "code",
   "execution_count": 3,
   "metadata": {},
   "outputs": [],
   "source": [
    "def test(word_list):\n",
    "    for i, word in enumerate(word_list):\n",
    "        print(\"test No\", i , \":\\nword:\", word, \"\\nResults:\")\n",
    "        board =[  ['A','B','C','E'],  ['S','F','C','S'],  ['A','D','E','E']]\n",
    "        print(word_search(board, word))\n",
    "        print(\"*\"*25, \"\\n\")"
   ]
  },
  {
   "cell_type": "code",
   "execution_count": 4,
   "metadata": {},
   "outputs": [
    {
     "name": "stdout",
     "output_type": "stream",
     "text": [
      "test No 0 :\n",
      "word: ABCCED \n",
      "Results:\n",
      "True\n",
      "************************* \n",
      "\n",
      "test No 1 :\n",
      "word: SEE \n",
      "Results:\n",
      "True\n",
      "************************* \n",
      "\n",
      "test No 2 :\n",
      "word: ABFDEE \n",
      "Results:\n",
      "True\n",
      "************************* \n",
      "\n",
      "test No 3 :\n",
      "word: ABCB \n",
      "Results:\n",
      "False\n",
      "************************* \n",
      "\n",
      "test No 4 :\n",
      "word: ABFDASF \n",
      "Results:\n",
      "False\n",
      "************************* \n",
      "\n"
     ]
    }
   ],
   "source": [
    "test(word_list)"
   ]
  },
  {
   "cell_type": "code",
   "execution_count": null,
   "metadata": {},
   "outputs": [],
   "source": []
  }
 ],
 "metadata": {
  "kernelspec": {
   "display_name": "Python 3",
   "language": "python",
   "name": "python3"
  },
  "language_info": {
   "codemirror_mode": {
    "name": "ipython",
    "version": 3
   },
   "file_extension": ".py",
   "mimetype": "text/x-python",
   "name": "python",
   "nbconvert_exporter": "python",
   "pygments_lexer": "ipython3",
   "version": "3.6.5"
  }
 },
 "nbformat": 4,
 "nbformat_minor": 2
}
