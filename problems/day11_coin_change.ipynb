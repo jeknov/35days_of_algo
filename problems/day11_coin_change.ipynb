{
 "cells": [
  {
   "cell_type": "markdown",
   "metadata": {},
   "source": [
    "# Coin Change\n",
    "\n",
    "You are given coins of different denominations and a total amount of money amount. Write a function to compute the fewest number of coins that you need to make up that amount. If that amount of money cannot be made up by any combination of the coins, return -1.\n",
    "\n",
    "**Example 1**:\n",
    "\n",
    "Input: coins = `[1, 2, 5]`, amount = `11`\n",
    "\n",
    "Output: `3 `\n",
    "\n",
    "Explanation: 11 = 5 + 5 + 1\n",
    "\n",
    "**Example 2**:\n",
    "\n",
    "Input: coins = `[2]`, amount = `3`\n",
    "\n",
    "Output: `-1`\n",
    "\n",
    "Note:\n",
    "You may assume that you have an infinite number of each kind of coin."
   ]
  },
  {
   "cell_type": "code",
   "execution_count": 1,
   "metadata": {},
   "outputs": [],
   "source": [
    "def coin_change(coins, amount):\n",
    "    dp = [float(\"inf\")]*(amount+1)\n",
    "    dp[0] = 0\n",
    "    for i in range(amount+1):\n",
    "        for coin in coins:\n",
    "            if i >= coin:\n",
    "                dp[i] = min(dp[i], 1 + dp[i - coin])\n",
    "    return dp[amount] if dp[amount] != float(\"inf\") else -1"
   ]
  },
  {
   "cell_type": "code",
   "execution_count": 2,
   "metadata": {},
   "outputs": [],
   "source": [
    "# Tests:\n",
    "coins_list = [[1, 2, 5], [2]]\n",
    "amount_list = [11, 3]"
   ]
  },
  {
   "cell_type": "code",
   "execution_count": 3,
   "metadata": {},
   "outputs": [],
   "source": [
    "def test(coins_list, amount_list):\n",
    "    for i, coins in enumerate(coins_list):\n",
    "        print(\"test No\", i , \":\\ncoins:\", coins, \"amount:\", amount_list[i], \"\\nResults:\")\n",
    "        print(coin_change(coins, amount_list[i]))\n",
    "        print(\"*\"*25, \"\\n\")"
   ]
  },
  {
   "cell_type": "code",
   "execution_count": 4,
   "metadata": {},
   "outputs": [
    {
     "name": "stdout",
     "output_type": "stream",
     "text": [
      "test No 0 :\n",
      "coins: [1, 2, 5] amount: 11 \n",
      "Results:\n",
      "3\n",
      "************************* \n",
      "\n",
      "test No 1 :\n",
      "coins: [2] amount: 3 \n",
      "Results:\n",
      "-1\n",
      "************************* \n",
      "\n"
     ]
    }
   ],
   "source": [
    "test(coins_list, amount_list)"
   ]
  },
  {
   "cell_type": "code",
   "execution_count": null,
   "metadata": {},
   "outputs": [],
   "source": []
  }
 ],
 "metadata": {
  "kernelspec": {
   "display_name": "Python 3",
   "language": "python",
   "name": "python3"
  },
  "language_info": {
   "codemirror_mode": {
    "name": "ipython",
    "version": 3
   },
   "file_extension": ".py",
   "mimetype": "text/x-python",
   "name": "python",
   "nbconvert_exporter": "python",
   "pygments_lexer": "ipython3",
   "version": "3.6.5"
  }
 },
 "nbformat": 4,
 "nbformat_minor": 2
}
