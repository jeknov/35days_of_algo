{
 "cells": [
  {
   "cell_type": "markdown",
   "metadata": {},
   "source": [
    "# Excel Sheet Column Number\n",
    "\n",
    "Given a column title as appear in an Excel sheet, return its corresponding column number.\n",
    "\n",
    "For example:\n",
    "<pre>\n",
    "    A -> 1\n",
    "    B -> 2\n",
    "    C -> 3\n",
    "    ...\n",
    "    Z -> 26\n",
    "    AA -> 27\n",
    "    AB -> 28 \n",
    "    ...\n",
    "</pre>\n",
    "\n",
    "**Example 1**:\n",
    "\n",
    "Input: \"A\"\n",
    "\n",
    "Output: 1\n",
    "\n",
    "**Example 2**:\n",
    "\n",
    "Input: \"AB\"\n",
    "\n",
    "Output: 28\n",
    "\n",
    "**Example 3**:\n",
    "\n",
    "Input: \"ZY\"\n",
    "\n",
    "Output: 701"
   ]
  },
  {
   "cell_type": "code",
   "execution_count": 1,
   "metadata": {},
   "outputs": [],
   "source": [
    "def excel_col_num(s):\n",
    "    if not s or s == \"\":\n",
    "        return -1\n",
    "    \n",
    "    sum = 0\n",
    "    \n",
    "    for letter in s:\n",
    "        sum *= 26\n",
    "        sum += ord(letter) - ord(\"A\") + 1\n",
    "    \n",
    "    return sum"
   ]
  },
  {
   "cell_type": "code",
   "execution_count": 2,
   "metadata": {},
   "outputs": [],
   "source": [
    "s_list = [\"A\", \"AB\", \"ZY\"]"
   ]
  },
  {
   "cell_type": "code",
   "execution_count": 3,
   "metadata": {},
   "outputs": [],
   "source": [
    "def test(s_list):\n",
    "    for i, s in enumerate(s_list):\n",
    "        print(\"test No\", i , \":\\ns:\", s, \"\\nResults:\")\n",
    "        print(excel_col_num(s))\n",
    "        print(\"*\"*25, \"\\n\")"
   ]
  },
  {
   "cell_type": "code",
   "execution_count": 4,
   "metadata": {},
   "outputs": [
    {
     "name": "stdout",
     "output_type": "stream",
     "text": [
      "test No 0 :\n",
      "s: A \n",
      "Results:\n",
      "1\n",
      "************************* \n",
      "\n",
      "test No 1 :\n",
      "s: AB \n",
      "Results:\n",
      "28\n",
      "************************* \n",
      "\n",
      "test No 2 :\n",
      "s: ZY \n",
      "Results:\n",
      "701\n",
      "************************* \n",
      "\n"
     ]
    }
   ],
   "source": [
    "test(s_list)"
   ]
  },
  {
   "cell_type": "code",
   "execution_count": null,
   "metadata": {},
   "outputs": [],
   "source": []
  }
 ],
 "metadata": {
  "kernelspec": {
   "display_name": "Python 3",
   "language": "python",
   "name": "python3"
  },
  "language_info": {
   "codemirror_mode": {
    "name": "ipython",
    "version": 3
   },
   "file_extension": ".py",
   "mimetype": "text/x-python",
   "name": "python",
   "nbconvert_exporter": "python",
   "pygments_lexer": "ipython3",
   "version": "3.6.5"
  }
 },
 "nbformat": 4,
 "nbformat_minor": 2
}
