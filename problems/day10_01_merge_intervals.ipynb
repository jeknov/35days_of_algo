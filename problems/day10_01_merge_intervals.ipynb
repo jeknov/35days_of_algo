{
 "cells": [
  {
   "cell_type": "markdown",
   "metadata": {},
   "source": [
    "# Merge Intervals\n",
    "\n",
    "Given a collection of intervals, merge all overlapping intervals.\n",
    "\n",
    "**Example 1**:\n",
    "\n",
    "Input: `[[1,3],[2,6],[8,10],[15,18]]`\n",
    "\n",
    "Output: `[[1,6],[8,10],[15,18]]`\n",
    "\n",
    "Explanation: Since intervals `[1,3]` and `[2,6]` overlaps, merge them into `[1,6]`.\n",
    "\n",
    "**Example 2**:\n",
    "\n",
    "Input: `[[1,4],[4,5]]`\n",
    "\n",
    "Output: `[[1,5]]`\n",
    "\n",
    "Explanation: Intervals `[1,4]` and `[4,5]` are considered overlapping."
   ]
  },
  {
   "cell_type": "code",
   "execution_count": 1,
   "metadata": {},
   "outputs": [],
   "source": [
    "def merge_intervals(arr):\n",
    "    \n",
    "    arr.sort()\n",
    "    \n",
    "    merged_arr = []\n",
    "    \n",
    "    for i in range(len(arr)):\n",
    "        if not merged_arr or merged_arr[-1][1] < arr[i][0]:\n",
    "            merged_arr.append(arr[i])\n",
    "        else:\n",
    "            merged_arr[-1][1] = max(merged_arr[-1][1], arr[i][1])         \n",
    "            \n",
    "    return merged_arr"
   ]
  },
  {
   "cell_type": "code",
   "execution_count": 2,
   "metadata": {},
   "outputs": [],
   "source": [
    "# Tests:\n",
    "arr_list = [[[1,4],[2,3],[2,10],[15,18]], \n",
    "           [[15,18],[1,3],[2,6],[8,10]],\n",
    "           [[1,4],[4,5]]]"
   ]
  },
  {
   "cell_type": "code",
   "execution_count": 3,
   "metadata": {},
   "outputs": [],
   "source": [
    "def test(arr_list):\n",
    "    for i, arr in enumerate(arr_list):\n",
    "        print(\"test No\", i , \":\\narr:\", arr, \"\\nResults:\")\n",
    "        print(merge_intervals(arr))\n",
    "        print(\"*\"*25, \"\\n\")"
   ]
  },
  {
   "cell_type": "code",
   "execution_count": 4,
   "metadata": {},
   "outputs": [
    {
     "name": "stdout",
     "output_type": "stream",
     "text": [
      "test No 0 :\n",
      "arr: [[1, 4], [2, 3], [2, 10], [15, 18]] \n",
      "Results:\n",
      "[[1, 10], [15, 18]]\n",
      "************************* \n",
      "\n",
      "test No 1 :\n",
      "arr: [[15, 18], [1, 3], [2, 6], [8, 10]] \n",
      "Results:\n",
      "[[1, 6], [8, 10], [15, 18]]\n",
      "************************* \n",
      "\n",
      "test No 2 :\n",
      "arr: [[1, 4], [4, 5]] \n",
      "Results:\n",
      "[[1, 5]]\n",
      "************************* \n",
      "\n"
     ]
    }
   ],
   "source": [
    "test(arr_list)"
   ]
  },
  {
   "cell_type": "code",
   "execution_count": null,
   "metadata": {},
   "outputs": [],
   "source": []
  }
 ],
 "metadata": {
  "kernelspec": {
   "display_name": "Python 3",
   "language": "python",
   "name": "python3"
  },
  "language_info": {
   "codemirror_mode": {
    "name": "ipython",
    "version": 3
   },
   "file_extension": ".py",
   "mimetype": "text/x-python",
   "name": "python",
   "nbconvert_exporter": "python",
   "pygments_lexer": "ipython3",
   "version": "3.6.5"
  }
 },
 "nbformat": 4,
 "nbformat_minor": 2
}
