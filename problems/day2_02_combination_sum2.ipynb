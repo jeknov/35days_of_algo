{
 "cells": [
  {
   "cell_type": "markdown",
   "metadata": {},
   "source": [
    "# Combination Sum II\n",
    "\n",
    "Given a collection of candidate numbers (`candidates`) and a target number (`target`), find all unique combinations in candidates where the candidate numbers sums to target.\n",
    "\n",
    "Each number in candidates may only be used **once** in the combination.\n",
    "\n",
    "Note:\n",
    "\n",
    "All numbers (including `target`) will be positive integers.\n",
    "The solution set must not contain duplicate combinations.\n",
    "\n",
    "**Example 1**:\n",
    "\n",
    "Input: candidates = `[10,1,2,7,6,1,5]`, target = 8,\n",
    "\n",
    "A solution set is:\n",
    "`[\n",
    "  [1, 7],\n",
    "  [1, 2, 5],\n",
    "  [2, 6],\n",
    "  [1, 1, 6]\n",
    "]`\n",
    "\n",
    "**Example 2**:\n",
    "\n",
    "Input: candidates = `[2,5,2,1,2]`, target = 5,\n",
    "\n",
    "A solution set is:\n",
    "`[\n",
    "  [1,2,2],\n",
    "  [5]\n",
    "]`"
   ]
  },
  {
   "cell_type": "code",
   "execution_count": 28,
   "metadata": {},
   "outputs": [],
   "source": [
    "def comb_sum2(candidates, target):\n",
    "    \"\"\"\n",
    "    :type candidates: List[int]\n",
    "    :type target: int\n",
    "    :rtype: List[List[int]]\n",
    "    \"\"\"\n",
    "    res = []\n",
    "    candidates.sort()\n",
    "\n",
    "    helper(res, candidates, target, [])\n",
    "\n",
    "    return res\n",
    "\n",
    "def helper(res, candidates, target, sublist):\n",
    "    if target == 0 and sorted(sublist) not in res:\n",
    "        res.append(sorted(sublist))\n",
    "        return\n",
    "\n",
    "    if candidates and target > 0:\n",
    "        for index, val in enumerate(candidates):\n",
    "            if target >= val:\n",
    "                helper(res, candidates[index+1:], target-val, sublist+[val])\n",
    "            else:\n",
    "                break"
   ]
  },
  {
   "cell_type": "code",
   "execution_count": 25,
   "metadata": {},
   "outputs": [],
   "source": [
    "# Tests:\n",
    "candidates_list = [[2,5,2,1,2], [10,1,2,7,6,1,5], [1,2,3]]\n",
    "targets = [5, 8, 4]"
   ]
  },
  {
   "cell_type": "code",
   "execution_count": 29,
   "metadata": {},
   "outputs": [],
   "source": [
    "def test(candidates_list, targets):\n",
    "    for i, candidates in enumerate(candidates_list):\n",
    "        print(\"test No\", i , \":\\ncandidates:\", candidates, \"target:\", targets[i], \"\\nResults:\")\n",
    "        print(comb_sum2(candidates, targets[i]))\n",
    "        print(\"*\"*25, \"\\n\")"
   ]
  },
  {
   "cell_type": "code",
   "execution_count": 30,
   "metadata": {},
   "outputs": [
    {
     "name": "stdout",
     "output_type": "stream",
     "text": [
      "test No 0 :\n",
      "candidates: [1, 2, 2, 2, 5] target: 5 \n",
      "Results:\n",
      "[[1, 2, 2], [5]]\n",
      "************************* \n",
      "\n",
      "test No 1 :\n",
      "candidates: [1, 1, 2, 5, 6, 7, 10] target: 8 \n",
      "Results:\n",
      "[[1, 1, 6], [1, 2, 5], [1, 7], [2, 6]]\n",
      "************************* \n",
      "\n",
      "test No 2 :\n",
      "candidates: [1, 2, 3] target: 4 \n",
      "Results:\n",
      "[[1, 3]]\n",
      "************************* \n",
      "\n"
     ]
    }
   ],
   "source": [
    "test(candidates_list, targets)"
   ]
  },
  {
   "cell_type": "code",
   "execution_count": null,
   "metadata": {},
   "outputs": [],
   "source": []
  }
 ],
 "metadata": {
  "kernelspec": {
   "display_name": "Python 3",
   "language": "python",
   "name": "python3"
  },
  "language_info": {
   "codemirror_mode": {
    "name": "ipython",
    "version": 3
   },
   "file_extension": ".py",
   "mimetype": "text/x-python",
   "name": "python",
   "nbconvert_exporter": "python",
   "pygments_lexer": "ipython3",
   "version": "3.6.5"
  }
 },
 "nbformat": 4,
 "nbformat_minor": 2
}
