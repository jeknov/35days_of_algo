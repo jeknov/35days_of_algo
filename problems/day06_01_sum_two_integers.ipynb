{
 "cells": [
  {
   "cell_type": "markdown",
   "metadata": {},
   "source": [
    "# Sum of Two Integers\n",
    "\n",
    "Calculate the sum of two integers a and b, but you are not allowed to use the operator + and -.\n",
    "\n",
    "**Example 1**:\n",
    "\n",
    "Input: a = 1, b = 2\n",
    "\n",
    "Output: 3\n",
    "\n",
    "**Example 2**:\n",
    "\n",
    "Input: a = -2, b = 3\n",
    "\n",
    "Output: 1"
   ]
  },
  {
   "cell_type": "code",
   "execution_count": 1,
   "metadata": {},
   "outputs": [],
   "source": [
    "def sum_two_integers(a, b):\n",
    "    mask = 0xFFFFFFFF\n",
    "    MAX = 0x7FFFFFFF\n",
    "    while b != 0:\n",
    "        carry = a & b\n",
    "        a = a ^ b & mask\n",
    "        b = carry << 1 & mask\n",
    "        a &= 0xFFFFFFFF\n",
    "        b &= 0xFFFFFFFF\n",
    "    return a if a <= MAX else ~(a ^ mask)"
   ]
  },
  {
   "cell_type": "code",
   "execution_count": 2,
   "metadata": {},
   "outputs": [],
   "source": [
    "# Tests:\n",
    "a_list = [1, -2, 124, 43, -3, -5]\n",
    "b_list = [2, 3, 18,   57, 2,  -10]"
   ]
  },
  {
   "cell_type": "code",
   "execution_count": 3,
   "metadata": {},
   "outputs": [],
   "source": [
    "def test(a_list, b_list):\n",
    "    for i, a in enumerate(a_list):\n",
    "        print(\"test No\", i , \":\\na:\", a, \"b:\", b_list[i], \"\\nResults:\")\n",
    "        print(sum_two_integers(a, b_list[i]))\n",
    "        print(\"*\"*25, \"\\n\")"
   ]
  },
  {
   "cell_type": "code",
   "execution_count": 4,
   "metadata": {},
   "outputs": [
    {
     "name": "stdout",
     "output_type": "stream",
     "text": [
      "test No 0 :\n",
      "a: 1 b: 2 \n",
      "Results:\n",
      "3\n",
      "************************* \n",
      "\n",
      "test No 1 :\n",
      "a: -2 b: 3 \n",
      "Results:\n",
      "1\n",
      "************************* \n",
      "\n",
      "test No 2 :\n",
      "a: 124 b: 18 \n",
      "Results:\n",
      "142\n",
      "************************* \n",
      "\n",
      "test No 3 :\n",
      "a: 43 b: 57 \n",
      "Results:\n",
      "100\n",
      "************************* \n",
      "\n",
      "test No 4 :\n",
      "a: -3 b: 2 \n",
      "Results:\n",
      "-1\n",
      "************************* \n",
      "\n",
      "test No 5 :\n",
      "a: -5 b: -10 \n",
      "Results:\n",
      "-15\n",
      "************************* \n",
      "\n"
     ]
    }
   ],
   "source": [
    "test(a_list, b_list)"
   ]
  },
  {
   "cell_type": "code",
   "execution_count": null,
   "metadata": {},
   "outputs": [],
   "source": []
  },
  {
   "cell_type": "code",
   "execution_count": null,
   "metadata": {},
   "outputs": [],
   "source": []
  },
  {
   "cell_type": "code",
   "execution_count": null,
   "metadata": {},
   "outputs": [],
   "source": []
  },
  {
   "cell_type": "code",
   "execution_count": null,
   "metadata": {},
   "outputs": [],
   "source": []
  },
  {
   "cell_type": "code",
   "execution_count": null,
   "metadata": {},
   "outputs": [],
   "source": []
  },
  {
   "cell_type": "code",
   "execution_count": null,
   "metadata": {},
   "outputs": [],
   "source": []
  }
 ],
 "metadata": {
  "kernelspec": {
   "display_name": "Python 3",
   "language": "python",
   "name": "python3"
  },
  "language_info": {
   "codemirror_mode": {
    "name": "ipython",
    "version": 3
   },
   "file_extension": ".py",
   "mimetype": "text/x-python",
   "name": "python",
   "nbconvert_exporter": "python",
   "pygments_lexer": "ipython3",
   "version": "3.6.5"
  }
 },
 "nbformat": 4,
 "nbformat_minor": 2
}
