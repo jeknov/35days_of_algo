{
 "cells": [
  {
   "cell_type": "markdown",
   "metadata": {},
   "source": [
    "# Jump Game\n",
    "\n",
    "Given an array of non-negative integers, you are initially positioned at the first index of the array.\n",
    "\n",
    "Each element in the array represents your maximum jump length at that position.\n",
    "\n",
    "Determine if you are able to reach the last index.\n",
    "\n",
    "**Example 1**:\n",
    "\n",
    "Input: `[2,3,1,1,4]`\n",
    "\n",
    "Output: true\n",
    "\n",
    "Explanation: Jump 1 step from index 0 to 1, then 3 steps to the last index.\n",
    "\n",
    "**Example 2**:\n",
    "\n",
    "Input: `[3,2,1,0,4]`\n",
    "\n",
    "Output: false\n",
    " \n",
    " Explanation: You will always arrive at index 3 no matter what. Its maximum\n",
    "             jump length is 0, which makes it impossible to reach the last index."
   ]
  },
  {
   "cell_type": "code",
   "execution_count": 1,
   "metadata": {},
   "outputs": [],
   "source": [
    "# Memoisation version\n",
    "def jump_game(nums):\n",
    "    \n",
    "    def can_jump(nums, ind):\n",
    "        if memo[ind] != \"Unk\":\n",
    "            return memo[ind] == \"Good\"\n",
    "        \n",
    "        furthestJump = min(ind + nums[ind], len(nums) - 1)\n",
    "        \n",
    "        for i in range(ind + 1, furthestJump + 1):\n",
    "            if can_jump(nums, i):\n",
    "                memo[i] = \"Good\"\n",
    "                return True\n",
    "        \n",
    "        memo[ind] = \"Bad\"\n",
    "        return False\n",
    "    \n",
    "    memo = [\"Unk\"]*len(nums) # memoisation array\n",
    "    memo[-1] = \"Good\"   # last element can always access itself\n",
    "    if nums:\n",
    "        return can_jump(nums, 0)    "
   ]
  },
  {
   "cell_type": "markdown",
   "metadata": {},
   "source": [
    "**Time complexity**: O(n^2). For every element in the array, say `i`, we are looking at the next `nums[i]` elements to its right aiming to find a `Good` index. `nums[i]` can be at most `n`, where `n` is the length of array nums.\n",
    "\n",
    "**Space complexity**: O(2n) = O(n). First `n` originates from recursion. Second `n` comes from the usage of the memo table."
   ]
  },
  {
   "cell_type": "code",
   "execution_count": 2,
   "metadata": {},
   "outputs": [],
   "source": [
    "# DP version\n",
    "def jump_game_dp(nums):\n",
    "    \n",
    "    memo = [\"Unk\"]*len(nums) # memoisation array\n",
    "    memo[-1] = \"Good\"   # last element can always access itself\n",
    "    \n",
    "    for i in range(len(nums) - 1, -1, -1): # we go from right to left to eliminate recursion\n",
    "        furthestJump = min(i + nums[i], len(nums) - 1)\n",
    "        \n",
    "        for j in range(i + 1, furthestJump + 1):\n",
    "            if memo[j] == \"Good\":\n",
    "                memo[i] = \"Good\"\n",
    "                break\n",
    "    \n",
    "    return memo[0] == \"Good\"\n",
    "    "
   ]
  },
  {
   "cell_type": "markdown",
   "metadata": {},
   "source": [
    "**Time complexity**: O(n^2). For every element `i` in the array, say `i`, the next `nums[i]` elements to its right is checked for having `Good` index. `nums[i]` can be at most `n`, where `n` is the length of array `nums`.\n",
    "\n",
    "**Space complexity**: O(n). Size of the `memo` table.\n"
   ]
  },
  {
   "cell_type": "code",
   "execution_count": 3,
   "metadata": {},
   "outputs": [],
   "source": [
    "# Greedy version\n",
    "def jump_game_greedy(nums):\n",
    "    last_pos = len(nums) - 1\n",
    "    \n",
    "    for i in range(len(nums) - 1, -1, -1):\n",
    "        if i + nums[i] >= last_pos:\n",
    "            last_pos = i\n",
    "    \n",
    "    return last_pos == 0"
   ]
  },
  {
   "cell_type": "markdown",
   "metadata": {},
   "source": [
    "**Time complexity**: O(n). It's a single pass through the `nums` array, hence `n` steps, where `n` is the length of array `nums`.\n",
    "\n",
    "**Space complexity**: O(1). No extra memory is used."
   ]
  },
  {
   "cell_type": "code",
   "execution_count": null,
   "metadata": {},
   "outputs": [],
   "source": []
  }
 ],
 "metadata": {
  "kernelspec": {
   "display_name": "Python 3",
   "language": "python",
   "name": "python3"
  },
  "language_info": {
   "codemirror_mode": {
    "name": "ipython",
    "version": 3
   },
   "file_extension": ".py",
   "mimetype": "text/x-python",
   "name": "python",
   "nbconvert_exporter": "python",
   "pygments_lexer": "ipython3",
   "version": "3.6.5"
  }
 },
 "nbformat": 4,
 "nbformat_minor": 2
}
