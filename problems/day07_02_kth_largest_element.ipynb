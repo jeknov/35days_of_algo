{
 "cells": [
  {
   "cell_type": "markdown",
   "metadata": {},
   "source": [
    "# Kth Largest Element in an Array\n",
    "\n",
    "Find the kth largest element in an unsorted array. Note that it is the kth largest element in the sorted order, not the kth distinct element.\n",
    "\n",
    "**Example 1**:\n",
    "\n",
    "Input: `[3,2,1,5,6,4]` and `k` = `2`\n",
    "\n",
    "Output: `5`\n",
    "\n",
    "**Example 2**:\n",
    "\n",
    "Input: `[3,2,3,1,2,4,5,5,6]` and `k` = `4`\n",
    "\n",
    "Output: `4`\n",
    "\n",
    "Note: \n",
    "\n",
    "You may assume `k` is always valid, 1 ≤ `k` ≤ array's length."
   ]
  },
  {
   "cell_type": "code",
   "execution_count": 1,
   "metadata": {},
   "outputs": [],
   "source": [
    "def kth_largest(nums, k):\n",
    "    return sorted(nums)[-k]"
   ]
  },
  {
   "cell_type": "code",
   "execution_count": 2,
   "metadata": {},
   "outputs": [],
   "source": [
    "# Tests:\n",
    "nums_list = [[3,2,3,1,2,4,5,5,6], [3,2,1,5,6,4]]\n",
    "k_list = [4, 2]"
   ]
  },
  {
   "cell_type": "code",
   "execution_count": 3,
   "metadata": {},
   "outputs": [],
   "source": [
    "def test(nums_list, k_list):\n",
    "    for i, nums in enumerate(nums_list):\n",
    "        print(\"test No\", i , \":\\nnums:\", nums, \"k:\", k_list[i], \"\\nResults:\")\n",
    "        print(kth_largest(nums, k_list[i]))\n",
    "        print(\"*\"*25, \"\\n\")"
   ]
  },
  {
   "cell_type": "code",
   "execution_count": 4,
   "metadata": {},
   "outputs": [
    {
     "name": "stdout",
     "output_type": "stream",
     "text": [
      "test No 0 :\n",
      "nums: [3, 2, 3, 1, 2, 4, 5, 5, 6] k: 4 \n",
      "Results:\n",
      "4\n",
      "************************* \n",
      "\n",
      "test No 1 :\n",
      "nums: [3, 2, 1, 5, 6, 4] k: 2 \n",
      "Results:\n",
      "5\n",
      "************************* \n",
      "\n"
     ]
    }
   ],
   "source": [
    "test(nums_list, k_list)"
   ]
  },
  {
   "cell_type": "code",
   "execution_count": null,
   "metadata": {},
   "outputs": [],
   "source": []
  }
 ],
 "metadata": {
  "kernelspec": {
   "display_name": "Python 3",
   "language": "python",
   "name": "python3"
  },
  "language_info": {
   "codemirror_mode": {
    "name": "ipython",
    "version": 3
   },
   "file_extension": ".py",
   "mimetype": "text/x-python",
   "name": "python",
   "nbconvert_exporter": "python",
   "pygments_lexer": "ipython3",
   "version": "3.6.5"
  }
 },
 "nbformat": 4,
 "nbformat_minor": 2
}
