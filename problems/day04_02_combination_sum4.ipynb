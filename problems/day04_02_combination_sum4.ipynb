{
 "cells": [
  {
   "cell_type": "markdown",
   "metadata": {},
   "source": [
    "# Combination Sum IV\n",
    "\n",
    "Given an integer array with all positive numbers and no duplicates, find the number of possible combinations that add up to a positive integer target.\n",
    "\n",
    "**Example**:\n",
    "\n",
    "nums = `[1, 2, 3]`\n",
    "\n",
    "target = 4\n",
    "\n",
    "The possible combination ways are:\n",
    "<pre>\n",
    "(1, 1, 1, 1)\n",
    "(1, 1, 2)\n",
    "(1, 2, 1)\n",
    "(1, 3)\n",
    "(2, 1, 1)\n",
    "(2, 2)\n",
    "(3, 1)\n",
    "</pre>\n",
    "\n",
    "Note that different sequences are counted as different combinations.\n",
    "\n",
    "Therefore the output is 7."
   ]
  },
  {
   "cell_type": "code",
   "execution_count": 1,
   "metadata": {},
   "outputs": [],
   "source": [
    "def comb_sum4(nums, target):\n",
    "    if len(nums) == 0:\n",
    "        return 0\n",
    "    if target  == 0:\n",
    "        return 1\n",
    "    res = 0\n",
    "    for i in range(len(nums)):\n",
    "        if target >= nums[i]:\n",
    "            res += comb_sum4(nums, target - nums[i])\n",
    "    return res"
   ]
  },
  {
   "cell_type": "code",
   "execution_count": 2,
   "metadata": {},
   "outputs": [],
   "source": [
    "# Tests:\n",
    "nums_list = [[1, 2, 3], [2, 4, 7], [1, 2]]\n",
    "target_list = [4, 7, 6]"
   ]
  },
  {
   "cell_type": "code",
   "execution_count": 3,
   "metadata": {},
   "outputs": [],
   "source": [
    "def test(nums_list, target_list):\n",
    "    for i, nums in enumerate(nums_list):\n",
    "        print(\"test No\", i , \":\\nnums:\", nums, \"target:\", target_list[i], \"\\nResults:\")\n",
    "        print(comb_sum4(nums, target_list[i]))\n",
    "        print(\"*\"*25, \"\\n\")"
   ]
  },
  {
   "cell_type": "code",
   "execution_count": 4,
   "metadata": {},
   "outputs": [
    {
     "name": "stdout",
     "output_type": "stream",
     "text": [
      "test No 0 :\n",
      "nums: [1, 2, 3] target: 4 \n",
      "Results:\n",
      "7\n",
      "************************* \n",
      "\n",
      "test No 1 :\n",
      "nums: [2, 4, 7] target: 7 \n",
      "Results:\n",
      "1\n",
      "************************* \n",
      "\n",
      "test No 2 :\n",
      "nums: [1, 2] target: 6 \n",
      "Results:\n",
      "13\n",
      "************************* \n",
      "\n"
     ]
    }
   ],
   "source": [
    "test(nums_list, target_list)"
   ]
  },
  {
   "cell_type": "code",
   "execution_count": null,
   "metadata": {},
   "outputs": [],
   "source": []
  }
 ],
 "metadata": {
  "kernelspec": {
   "display_name": "Python 3",
   "language": "python",
   "name": "python3"
  },
  "language_info": {
   "codemirror_mode": {
    "name": "ipython",
    "version": 3
   },
   "file_extension": ".py",
   "mimetype": "text/x-python",
   "name": "python",
   "nbconvert_exporter": "python",
   "pygments_lexer": "ipython3",
   "version": "3.6.5"
  }
 },
 "nbformat": 4,
 "nbformat_minor": 2
}
