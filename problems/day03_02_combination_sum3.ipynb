{
 "cells": [
  {
   "cell_type": "markdown",
   "metadata": {},
   "source": [
    "# Combination Sum III\n",
    "\n",
    "Find all possible combinations of `k` numbers that add up to a number `n`, given that only numbers from 1 to 9 can be used and each combination should be a unique set of numbers.\n",
    "\n",
    "Note:\n",
    "\n",
    "- All numbers will be positive integers.\n",
    "- The solution set must not contain duplicate combinations.\n",
    "\n",
    "**Example 1**:\n",
    "\n",
    "Input: `k` = 3, `n` = 7\n",
    "\n",
    "Output: `[[1,2,4]]`\n",
    "\n",
    "**Example 2**:\n",
    "\n",
    "Input: `k` = 3, `n` = 9\n",
    "\n",
    "Output: `[[1,2,6], [1,3,5], [2,3,4]]`"
   ]
  },
  {
   "cell_type": "code",
   "execution_count": null,
   "metadata": {},
   "outputs": [],
   "source": [
    "def combination_sum3_recursive(k, n):\n",
    "    \n",
    "    def helper(start, candidates, target, level, comb, results):\n",
    "\n",
    "        if target==0 and level==0:\n",
    "            results.append(comb)\n",
    "\n",
    "        for i in range(start, len(candidates)):\n",
    "\n",
    "            if level > 0 and target >= candidates[i]:\n",
    "                helper(i + 1, candidates, target - candidates[i], level - 1, comb + [candidates[i]], results)\n",
    "    \n",
    "    results=[]\n",
    "    helper(0, [1,2,3,4,5,6,7,8,9], n, k, [], results)\n",
    "    return results"
   ]
  },
  {
   "cell_type": "code",
   "execution_count": 2,
   "metadata": {},
   "outputs": [],
   "source": [
    "def combination_sum3_iter(k, n):\n",
    "    # Iterative backtracking\n",
    "    # -----------------------------------\n",
    "    \n",
    "    ans = []\n",
    "    stack = [(0, 1, [])]  # (resulting sum, start, combination)\n",
    "    while stack:\n",
    "        res_sum, start, comb = stack.pop()\n",
    "        if res_sum == n and len(comb) == k:\n",
    "            ans.append(comb)\n",
    "            continue\n",
    "\n",
    "        for i in range(start, 10):\n",
    "            tmp_sum = res_sum + i\n",
    "            if tmp_sum > n:\n",
    "                break\n",
    "            stack.append((tmp_sum, i + 1, comb + [i]))\n",
    "            \n",
    "    return ans"
   ]
  },
  {
   "cell_type": "code",
   "execution_count": 3,
   "metadata": {},
   "outputs": [],
   "source": [
    "# Tests:\n",
    "k_list = [3, 3, 2]\n",
    "n_list = [7, 9, 8]"
   ]
  },
  {
   "cell_type": "code",
   "execution_count": 4,
   "metadata": {},
   "outputs": [],
   "source": [
    "def test(k_list, n_list):\n",
    "    for i, k in enumerate(k_list):\n",
    "        print(\"test No\", i , \":\\nk:\", k, \"n:\", n_list[i], \"\\nResults:\")\n",
    "        print(combination_sum3_recursive(k, n_list[i]))\n",
    "        print(\"*\"*25, \"\\n\")"
   ]
  },
  {
   "cell_type": "code",
   "execution_count": 5,
   "metadata": {},
   "outputs": [
    {
     "name": "stdout",
     "output_type": "stream",
     "text": [
      "test No 0 :\n",
      "k: 3 n: 7 \n",
      "Results:\n",
      "[[1, 2, 4]]\n",
      "************************* \n",
      "\n",
      "test No 1 :\n",
      "k: 3 n: 9 \n",
      "Results:\n",
      "[[1, 2, 6], [1, 3, 5], [2, 3, 4]]\n",
      "************************* \n",
      "\n",
      "test No 2 :\n",
      "k: 2 n: 8 \n",
      "Results:\n",
      "[[1, 7], [2, 6], [3, 5]]\n",
      "************************* \n",
      "\n"
     ]
    }
   ],
   "source": [
    "test(k_list, n_list)"
   ]
  },
  {
   "cell_type": "code",
   "execution_count": null,
   "metadata": {},
   "outputs": [],
   "source": []
  }
 ],
 "metadata": {
  "kernelspec": {
   "display_name": "Python 3",
   "language": "python",
   "name": "python3"
  },
  "language_info": {
   "codemirror_mode": {
    "name": "ipython",
    "version": 3
   },
   "file_extension": ".py",
   "mimetype": "text/x-python",
   "name": "python",
   "nbconvert_exporter": "python",
   "pygments_lexer": "ipython3",
   "version": "3.6.5"
  }
 },
 "nbformat": 4,
 "nbformat_minor": 2
}
