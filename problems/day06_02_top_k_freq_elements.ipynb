{
 "cells": [
  {
   "cell_type": "markdown",
   "metadata": {},
   "source": [
    "# Top K Frequent Elements\n",
    "\n",
    "Given a non-empty array of integers, return the k most frequent elements.\n",
    "\n",
    "**Example 1**:\n",
    "\n",
    "Input: `nums` = `[1,1,1,2,2,3]`, `k` = 2\n",
    "\n",
    "Output: `[1,2]`\n",
    "\n",
    "**Example 2**:\n",
    "\n",
    "Input: `nums` = `[1]`, `k` = 1\n",
    "\n",
    "Output: `[1]`\n",
    "\n",
    "Note:\n",
    "\n",
    "- You may assume k is always valid, 1 ≤ `k` ≤ number of unique elements.\n",
    "- Your algorithm's time complexity must be better than `O(n*logn)`, where `n` is the array's size."
   ]
  },
  {
   "cell_type": "code",
   "execution_count": 1,
   "metadata": {},
   "outputs": [],
   "source": [
    "def top_k_freq_elements(nums, k):\n",
    "    \n",
    "    if len(nums) == 1: # if nums contains one element only, this element is the most frequent one\n",
    "        return nums\n",
    "    \n",
    "    hashmap = {}\n",
    "    count = 0\n",
    "    for each in nums:\n",
    "        if each in hashmap:\n",
    "            hashmap[each] += 1\n",
    "        else:\n",
    "            hashmap[each] = 1\n",
    "            \n",
    "    if len(hashmap) == len(nums): # means that list contains each element once\n",
    "        return list(hashmap.keys())[:k]    # any top-k elements can be returned in this case\n",
    "    else:\n",
    "        return sorted(hashmap, key=hashmap.get, reverse = True)[:k] # hashmap is sorted and top-k elements returned"
   ]
  },
  {
   "cell_type": "code",
   "execution_count": 2,
   "metadata": {},
   "outputs": [],
   "source": [
    "# Tests:\n",
    "nums_list = [[1,2,1,2,1,3,3,4,5,6], [4,3,6,2,7,5], [1]]\n",
    "k_list = [3, 3, 1]"
   ]
  },
  {
   "cell_type": "code",
   "execution_count": 3,
   "metadata": {},
   "outputs": [],
   "source": [
    "def test(nums_list, k_list):\n",
    "    for i, nums in enumerate(nums_list):\n",
    "        print(\"test No\", i , \":\\nnums:\", nums, \"k:\", k_list[i], \"\\nResults:\")\n",
    "        print(top_k_freq_elements(nums, k_list[i]))\n",
    "        print(\"*\"*25, \"\\n\")"
   ]
  },
  {
   "cell_type": "code",
   "execution_count": 4,
   "metadata": {},
   "outputs": [
    {
     "name": "stdout",
     "output_type": "stream",
     "text": [
      "test No 0 :\n",
      "nums: [1, 2, 1, 2, 1, 3, 3, 4, 5, 6] k: 3 \n",
      "Results:\n",
      "[1, 2, 3]\n",
      "************************* \n",
      "\n",
      "test No 1 :\n",
      "nums: [4, 3, 6, 2, 7, 5] k: 3 \n",
      "Results:\n",
      "[4, 3, 6]\n",
      "************************* \n",
      "\n",
      "test No 2 :\n",
      "nums: [1] k: 1 \n",
      "Results:\n",
      "[1]\n",
      "************************* \n",
      "\n"
     ]
    }
   ],
   "source": [
    "test(nums_list, k_list)"
   ]
  },
  {
   "cell_type": "code",
   "execution_count": null,
   "metadata": {},
   "outputs": [],
   "source": []
  }
 ],
 "metadata": {
  "kernelspec": {
   "display_name": "Python 3",
   "language": "python",
   "name": "python3"
  },
  "language_info": {
   "codemirror_mode": {
    "name": "ipython",
    "version": 3
   },
   "file_extension": ".py",
   "mimetype": "text/x-python",
   "name": "python",
   "nbconvert_exporter": "python",
   "pygments_lexer": "ipython3",
   "version": "3.6.5"
  }
 },
 "nbformat": 4,
 "nbformat_minor": 2
}
