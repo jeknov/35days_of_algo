{
 "cells": [
  {
   "cell_type": "markdown",
   "metadata": {},
   "source": [
    "# Find Peak Element\n",
    "\n",
    "A peak element is an element that is greater than its neighbors.\n",
    "\n",
    "Given an input array nums, where `nums[i]` ≠ `nums[i+1]`, find a peak element and return its index.\n",
    "\n",
    "The array may contain multiple peaks, in that case return the index to any one of the peaks is fine.\n",
    "\n",
    "You may imagine that `nums[-1]` = `nums[n]` = `-∞`.\n",
    "\n",
    "**Example 1**:\n",
    "\n",
    "Input: nums = `[1,2,3,1]`\n",
    "\n",
    "Output: `2`\n",
    "\n",
    "Explanation: 3 is a peak element and your function should return the index number 2.\n",
    "\n",
    "**Example 2**:\n",
    "\n",
    "Input: nums = `[1,2,1,3,5,6,4]`\n",
    "\n",
    "Output: `1` or `5`\n",
    "\n",
    "Explanation: Your function can return either index number 1 where the peak element is 2, \n",
    "             or index number 5 where the peak element is 6.\n",
    "\n",
    "Note: Your solution should be in logarithmic complexity."
   ]
  },
  {
   "cell_type": "code",
   "execution_count": 1,
   "metadata": {},
   "outputs": [],
   "source": [
    "def find_peak(nums):\n",
    "    left = 0\n",
    "    right = len(nums) - 1\n",
    "    if len(nums) == 1:\n",
    "        return 0\n",
    "    while left < right:\n",
    "        mid = (left + right) // 2\n",
    "        if nums[mid] > nums[mid + 1]:\n",
    "            right = mid\n",
    "        else:\n",
    "            left = mid + 1\n",
    "    return left\n",
    "        "
   ]
  },
  {
   "cell_type": "code",
   "execution_count": 2,
   "metadata": {},
   "outputs": [],
   "source": [
    "# Test:\n",
    "nums_list = [[1,2,3,1], [1,2,1,3,5,6,4], [2], [1,2,3,4], [4,3,2,1]]"
   ]
  },
  {
   "cell_type": "code",
   "execution_count": 3,
   "metadata": {},
   "outputs": [],
   "source": [
    "def test(nums_list):\n",
    "    for i, nums in enumerate(nums_list):\n",
    "        print(\"test No\", i , \":\\nnums:\", nums, \"\\nResults:\")\n",
    "        print(find_peak(nums))\n",
    "        print(\"*\"*25, \"\\n\")"
   ]
  },
  {
   "cell_type": "code",
   "execution_count": 4,
   "metadata": {},
   "outputs": [
    {
     "name": "stdout",
     "output_type": "stream",
     "text": [
      "test No 0 :\n",
      "nums: [1, 2, 3, 1] \n",
      "Results:\n",
      "2\n",
      "************************* \n",
      "\n",
      "test No 1 :\n",
      "nums: [1, 2, 1, 3, 5, 6, 4] \n",
      "Results:\n",
      "5\n",
      "************************* \n",
      "\n",
      "test No 2 :\n",
      "nums: [2] \n",
      "Results:\n",
      "0\n",
      "************************* \n",
      "\n",
      "test No 3 :\n",
      "nums: [1, 2, 3, 4] \n",
      "Results:\n",
      "3\n",
      "************************* \n",
      "\n",
      "test No 4 :\n",
      "nums: [4, 3, 2, 1] \n",
      "Results:\n",
      "0\n",
      "************************* \n",
      "\n"
     ]
    }
   ],
   "source": [
    "test(nums_list)"
   ]
  },
  {
   "cell_type": "code",
   "execution_count": null,
   "metadata": {},
   "outputs": [],
   "source": []
  }
 ],
 "metadata": {
  "kernelspec": {
   "display_name": "Python 3",
   "language": "python",
   "name": "python3"
  },
  "language_info": {
   "codemirror_mode": {
    "name": "ipython",
    "version": 3
   },
   "file_extension": ".py",
   "mimetype": "text/x-python",
   "name": "python",
   "nbconvert_exporter": "python",
   "pygments_lexer": "ipython3",
   "version": "3.6.5"
  }
 },
 "nbformat": 4,
 "nbformat_minor": 2
}
