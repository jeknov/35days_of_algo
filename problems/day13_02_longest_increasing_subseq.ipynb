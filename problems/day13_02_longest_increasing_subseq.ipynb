{
 "cells": [
  {
   "cell_type": "markdown",
   "metadata": {},
   "source": [
    "# Longest Increasing Subsequence\n",
    "\n",
    "Given an unsorted array of integers, find the length of longest increasing subsequence.\n",
    "\n",
    "**Example**:\n",
    "\n",
    "Input: `[10,9,2,5,3,7,101,18]`\n",
    "\n",
    "Output: `4` \n",
    "\n",
    "Explanation: The longest increasing subsequence is `[2,3,7,101]`, therefore the length is `4`. \n",
    "\n",
    "Note:\n",
    "\n",
    "There may be more than one LIS combination, it is only necessary for you to return the length.\n",
    "Your algorithm should run in `O(n^2)` complexity.\n",
    "\n",
    "Follow up: Could you improve it to `O(n*logn)` time complexity?"
   ]
  },
  {
   "cell_type": "code",
   "execution_count": 41,
   "metadata": {},
   "outputs": [],
   "source": [
    "# Approaching the task using recursion and memoisation:\n",
    "\n",
    "def count_lis(nums):\n",
    "    \n",
    "    def lis(nums, prev, currpos, memo):\n",
    "        #print(\"memo:\", memo)\n",
    "        if currpos == len(nums):\n",
    "            return 0\n",
    "        \n",
    "        taken = 0\n",
    "        if prev < nums[currpos]:\n",
    "            if (prev, currpos) in memo:\n",
    "                taken = memo[(prev, currpos)]\n",
    "            else:\n",
    "                taken = 1 + lis(nums, nums[currpos], currpos + 1, memo)\n",
    "                memo[(prev, currpos)] = taken\n",
    "        \n",
    "\n",
    "        nottaken = lis(nums, prev, currpos + 1, memo)\n",
    "        memo[(prev, currpos)] = max(taken, nottaken)\n",
    "        return memo[(prev, currpos)]\n",
    "    \n",
    "    memo = {}\n",
    "    return lis(nums, float(\"-inf\"), 0, memo)"
   ]
  },
  {
   "cell_type": "markdown",
   "metadata": {},
   "source": [
    "With memoisation, the time complexity is O(n^2)"
   ]
  },
  {
   "cell_type": "code",
   "execution_count": 73,
   "metadata": {},
   "outputs": [],
   "source": [
    "# Approaching the task using DP\n",
    "\n",
    "def count_lis_dp(nums):\n",
    "    if nums == []:\n",
    "        return 0\n",
    "    else:\n",
    "        dp = [1]*len(nums)\n",
    "        for i in range(len(nums)):\n",
    "            for j in range(i):\n",
    "                if nums[i] > nums[j]:\n",
    "                    dp[i] = max(dp[i], 1 + dp[j])\n",
    "                    \n",
    "        return max(dp)"
   ]
  },
  {
   "cell_type": "code",
   "execution_count": 76,
   "metadata": {},
   "outputs": [],
   "source": [
    "nums_list = [[1,3,6,7,9,4,10,5,6], [10,9,2,5,3,7,101,18], [], [0]]"
   ]
  },
  {
   "cell_type": "code",
   "execution_count": 84,
   "metadata": {},
   "outputs": [],
   "source": [
    "def test(nums_list):\n",
    "    for i, nums in enumerate(nums_list):\n",
    "        print(\"test No\", i , \"\\nnums:\", nums, \"\\nResults:\")\n",
    "        print(count_lis_dp(nums))\n",
    "        print(\"*\"*25, \"\\n\")"
   ]
  },
  {
   "cell_type": "code",
   "execution_count": 85,
   "metadata": {},
   "outputs": [
    {
     "name": "stdout",
     "output_type": "stream",
     "text": [
      "test No 0 \n",
      "nums: [1, 3, 6, 7, 9, 4, 10, 5, 6] \n",
      "Results:\n",
      "6\n",
      "************************* \n",
      "\n",
      "test No 1 \n",
      "nums: [10, 9, 2, 5, 3, 7, 101, 18] \n",
      "Results:\n",
      "4\n",
      "************************* \n",
      "\n",
      "test No 2 \n",
      "nums: [] \n",
      "Results:\n",
      "0\n",
      "************************* \n",
      "\n",
      "test No 3 \n",
      "nums: [0] \n",
      "Results:\n",
      "1\n",
      "************************* \n",
      "\n"
     ]
    }
   ],
   "source": [
    "test(nums_list)"
   ]
  },
  {
   "cell_type": "code",
   "execution_count": null,
   "metadata": {},
   "outputs": [],
   "source": []
  }
 ],
 "metadata": {
  "kernelspec": {
   "display_name": "Python 3",
   "language": "python",
   "name": "python3"
  },
  "language_info": {
   "codemirror_mode": {
    "name": "ipython",
    "version": 3
   },
   "file_extension": ".py",
   "mimetype": "text/x-python",
   "name": "python",
   "nbconvert_exporter": "python",
   "pygments_lexer": "ipython3",
   "version": "3.6.5"
  }
 },
 "nbformat": 4,
 "nbformat_minor": 2
}
